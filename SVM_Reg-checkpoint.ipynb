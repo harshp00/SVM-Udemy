{
  "cells": [
    {
      "metadata": {
        "trusted": true
      },
      "cell_type": "code",
      "source": "import numpy as np\nimport pandas as pd\nimport seaborn as sns\nimport matplotlib.pyplot as plt",
      "execution_count": 28,
      "outputs": []
    },
    {
      "metadata": {
        "trusted": true
      },
      "cell_type": "code",
      "source": "df = pd.read_csv(\"Movie_regression.csv\", header=0)",
      "execution_count": 29,
      "outputs": []
    },
    {
      "metadata": {
        "trusted": true
      },
      "cell_type": "code",
      "source": "df.head()",
      "execution_count": 30,
      "outputs": [
        {
          "output_type": "execute_result",
          "execution_count": 30,
          "data": {
            "text/html": "<div>\n<table border=\"1\" class=\"dataframe\">\n  <thead>\n    <tr style=\"text-align: right;\">\n      <th></th>\n      <th>Marketing expense</th>\n      <th>Production expense</th>\n      <th>Multiplex coverage</th>\n      <th>Budget</th>\n      <th>Movie_length</th>\n      <th>Lead_ Actor_Rating</th>\n      <th>Lead_Actress_rating</th>\n      <th>Director_rating</th>\n      <th>Producer_rating</th>\n      <th>Critic_rating</th>\n      <th>Trailer_views</th>\n      <th>3D_available</th>\n      <th>Time_taken</th>\n      <th>Twitter_hastags</th>\n      <th>Genre</th>\n      <th>Avg_age_actors</th>\n      <th>Num_multiplex</th>\n      <th>Collection</th>\n    </tr>\n  </thead>\n  <tbody>\n    <tr>\n      <th>0</th>\n      <td>20.1264</td>\n      <td>59.62</td>\n      <td>0.462</td>\n      <td>36524.125</td>\n      <td>138.7</td>\n      <td>7.825</td>\n      <td>8.095</td>\n      <td>7.910</td>\n      <td>7.995</td>\n      <td>7.94</td>\n      <td>527367</td>\n      <td>YES</td>\n      <td>109.60</td>\n      <td>223.840</td>\n      <td>Thriller</td>\n      <td>23</td>\n      <td>494</td>\n      <td>48000</td>\n    </tr>\n    <tr>\n      <th>1</th>\n      <td>20.5462</td>\n      <td>69.14</td>\n      <td>0.531</td>\n      <td>35668.655</td>\n      <td>152.4</td>\n      <td>7.505</td>\n      <td>7.650</td>\n      <td>7.440</td>\n      <td>7.470</td>\n      <td>7.44</td>\n      <td>494055</td>\n      <td>NO</td>\n      <td>146.64</td>\n      <td>243.456</td>\n      <td>Drama</td>\n      <td>42</td>\n      <td>462</td>\n      <td>43200</td>\n    </tr>\n    <tr>\n      <th>2</th>\n      <td>20.5458</td>\n      <td>69.14</td>\n      <td>0.531</td>\n      <td>39912.675</td>\n      <td>134.6</td>\n      <td>7.485</td>\n      <td>7.570</td>\n      <td>7.495</td>\n      <td>7.515</td>\n      <td>7.44</td>\n      <td>547051</td>\n      <td>NO</td>\n      <td>147.88</td>\n      <td>2022.400</td>\n      <td>Comedy</td>\n      <td>38</td>\n      <td>458</td>\n      <td>69400</td>\n    </tr>\n    <tr>\n      <th>3</th>\n      <td>20.6474</td>\n      <td>59.36</td>\n      <td>0.542</td>\n      <td>38873.890</td>\n      <td>119.3</td>\n      <td>6.895</td>\n      <td>7.035</td>\n      <td>6.920</td>\n      <td>7.020</td>\n      <td>8.26</td>\n      <td>516279</td>\n      <td>YES</td>\n      <td>185.36</td>\n      <td>225.344</td>\n      <td>Drama</td>\n      <td>45</td>\n      <td>472</td>\n      <td>66800</td>\n    </tr>\n    <tr>\n      <th>4</th>\n      <td>21.3810</td>\n      <td>59.36</td>\n      <td>0.542</td>\n      <td>39701.585</td>\n      <td>127.7</td>\n      <td>6.920</td>\n      <td>7.070</td>\n      <td>6.815</td>\n      <td>7.070</td>\n      <td>8.26</td>\n      <td>531448</td>\n      <td>NO</td>\n      <td>176.48</td>\n      <td>225.792</td>\n      <td>Drama</td>\n      <td>55</td>\n      <td>395</td>\n      <td>72400</td>\n    </tr>\n  </tbody>\n</table>\n</div>",
            "text/plain": "   Marketing expense  Production expense  Multiplex coverage     Budget  \\\n0            20.1264               59.62               0.462  36524.125   \n1            20.5462               69.14               0.531  35668.655   \n2            20.5458               69.14               0.531  39912.675   \n3            20.6474               59.36               0.542  38873.890   \n4            21.3810               59.36               0.542  39701.585   \n\n   Movie_length  Lead_ Actor_Rating  Lead_Actress_rating  Director_rating  \\\n0         138.7               7.825                8.095            7.910   \n1         152.4               7.505                7.650            7.440   \n2         134.6               7.485                7.570            7.495   \n3         119.3               6.895                7.035            6.920   \n4         127.7               6.920                7.070            6.815   \n\n   Producer_rating  Critic_rating  Trailer_views 3D_available  Time_taken  \\\n0            7.995           7.94         527367          YES      109.60   \n1            7.470           7.44         494055           NO      146.64   \n2            7.515           7.44         547051           NO      147.88   \n3            7.020           8.26         516279          YES      185.36   \n4            7.070           8.26         531448           NO      176.48   \n\n   Twitter_hastags     Genre  Avg_age_actors  Num_multiplex  Collection  \n0          223.840  Thriller              23            494       48000  \n1          243.456     Drama              42            462       43200  \n2         2022.400    Comedy              38            458       69400  \n3          225.344     Drama              45            472       66800  \n4          225.792     Drama              55            395       72400  "
          },
          "metadata": {}
        }
      ]
    },
    {
      "metadata": {
        "trusted": true
      },
      "cell_type": "code",
      "source": "df.info()",
      "execution_count": 31,
      "outputs": [
        {
          "output_type": "stream",
          "text": "<class 'pandas.core.frame.DataFrame'>\nRangeIndex: 506 entries, 0 to 505\nData columns (total 18 columns):\nMarketing expense      506 non-null float64\nProduction expense     506 non-null float64\nMultiplex coverage     506 non-null float64\nBudget                 506 non-null float64\nMovie_length           506 non-null float64\nLead_ Actor_Rating     506 non-null float64\nLead_Actress_rating    506 non-null float64\nDirector_rating        506 non-null float64\nProducer_rating        506 non-null float64\nCritic_rating          506 non-null float64\nTrailer_views          506 non-null int64\n3D_available           506 non-null object\nTime_taken             494 non-null float64\nTwitter_hastags        506 non-null float64\nGenre                  506 non-null object\nAvg_age_actors         506 non-null int64\nNum_multiplex          506 non-null int64\nCollection             506 non-null int64\ndtypes: float64(12), int64(4), object(2)\nmemory usage: 71.2+ KB\n",
          "name": "stdout"
        }
      ]
    },
    {
      "metadata": {},
      "cell_type": "markdown",
      "source": "### Missing Value Imputation"
    },
    {
      "metadata": {
        "trusted": true
      },
      "cell_type": "code",
      "source": "mean=df['Time_taken'].mean()\nprint(mean)",
      "execution_count": 32,
      "outputs": [
        {
          "output_type": "stream",
          "text": "157.39149797570855\n",
          "name": "stdout"
        }
      ]
    },
    {
      "metadata": {
        "trusted": true
      },
      "cell_type": "code",
      "source": "df['Time_taken'].fillna(value=mean,inplace=True)",
      "execution_count": 33,
      "outputs": []
    },
    {
      "metadata": {
        "trusted": true
      },
      "cell_type": "code",
      "source": "df.info()",
      "execution_count": 34,
      "outputs": [
        {
          "output_type": "stream",
          "text": "<class 'pandas.core.frame.DataFrame'>\nRangeIndex: 506 entries, 0 to 505\nData columns (total 18 columns):\nMarketing expense      506 non-null float64\nProduction expense     506 non-null float64\nMultiplex coverage     506 non-null float64\nBudget                 506 non-null float64\nMovie_length           506 non-null float64\nLead_ Actor_Rating     506 non-null float64\nLead_Actress_rating    506 non-null float64\nDirector_rating        506 non-null float64\nProducer_rating        506 non-null float64\nCritic_rating          506 non-null float64\nTrailer_views          506 non-null int64\n3D_available           506 non-null object\nTime_taken             506 non-null float64\nTwitter_hastags        506 non-null float64\nGenre                  506 non-null object\nAvg_age_actors         506 non-null int64\nNum_multiplex          506 non-null int64\nCollection             506 non-null int64\ndtypes: float64(12), int64(4), object(2)\nmemory usage: 71.2+ KB\n",
          "name": "stdout"
        }
      ]
    },
    {
      "metadata": {},
      "cell_type": "markdown",
      "source": "### Dummy Variable Creation"
    },
    {
      "metadata": {
        "trusted": true
      },
      "cell_type": "code",
      "source": "df.head()",
      "execution_count": 35,
      "outputs": [
        {
          "output_type": "execute_result",
          "execution_count": 35,
          "data": {
            "text/html": "<div>\n<table border=\"1\" class=\"dataframe\">\n  <thead>\n    <tr style=\"text-align: right;\">\n      <th></th>\n      <th>Marketing expense</th>\n      <th>Production expense</th>\n      <th>Multiplex coverage</th>\n      <th>Budget</th>\n      <th>Movie_length</th>\n      <th>Lead_ Actor_Rating</th>\n      <th>Lead_Actress_rating</th>\n      <th>Director_rating</th>\n      <th>Producer_rating</th>\n      <th>Critic_rating</th>\n      <th>Trailer_views</th>\n      <th>3D_available</th>\n      <th>Time_taken</th>\n      <th>Twitter_hastags</th>\n      <th>Genre</th>\n      <th>Avg_age_actors</th>\n      <th>Num_multiplex</th>\n      <th>Collection</th>\n    </tr>\n  </thead>\n  <tbody>\n    <tr>\n      <th>0</th>\n      <td>20.1264</td>\n      <td>59.62</td>\n      <td>0.462</td>\n      <td>36524.125</td>\n      <td>138.7</td>\n      <td>7.825</td>\n      <td>8.095</td>\n      <td>7.910</td>\n      <td>7.995</td>\n      <td>7.94</td>\n      <td>527367</td>\n      <td>YES</td>\n      <td>109.60</td>\n      <td>223.840</td>\n      <td>Thriller</td>\n      <td>23</td>\n      <td>494</td>\n      <td>48000</td>\n    </tr>\n    <tr>\n      <th>1</th>\n      <td>20.5462</td>\n      <td>69.14</td>\n      <td>0.531</td>\n      <td>35668.655</td>\n      <td>152.4</td>\n      <td>7.505</td>\n      <td>7.650</td>\n      <td>7.440</td>\n      <td>7.470</td>\n      <td>7.44</td>\n      <td>494055</td>\n      <td>NO</td>\n      <td>146.64</td>\n      <td>243.456</td>\n      <td>Drama</td>\n      <td>42</td>\n      <td>462</td>\n      <td>43200</td>\n    </tr>\n    <tr>\n      <th>2</th>\n      <td>20.5458</td>\n      <td>69.14</td>\n      <td>0.531</td>\n      <td>39912.675</td>\n      <td>134.6</td>\n      <td>7.485</td>\n      <td>7.570</td>\n      <td>7.495</td>\n      <td>7.515</td>\n      <td>7.44</td>\n      <td>547051</td>\n      <td>NO</td>\n      <td>147.88</td>\n      <td>2022.400</td>\n      <td>Comedy</td>\n      <td>38</td>\n      <td>458</td>\n      <td>69400</td>\n    </tr>\n    <tr>\n      <th>3</th>\n      <td>20.6474</td>\n      <td>59.36</td>\n      <td>0.542</td>\n      <td>38873.890</td>\n      <td>119.3</td>\n      <td>6.895</td>\n      <td>7.035</td>\n      <td>6.920</td>\n      <td>7.020</td>\n      <td>8.26</td>\n      <td>516279</td>\n      <td>YES</td>\n      <td>185.36</td>\n      <td>225.344</td>\n      <td>Drama</td>\n      <td>45</td>\n      <td>472</td>\n      <td>66800</td>\n    </tr>\n    <tr>\n      <th>4</th>\n      <td>21.3810</td>\n      <td>59.36</td>\n      <td>0.542</td>\n      <td>39701.585</td>\n      <td>127.7</td>\n      <td>6.920</td>\n      <td>7.070</td>\n      <td>6.815</td>\n      <td>7.070</td>\n      <td>8.26</td>\n      <td>531448</td>\n      <td>NO</td>\n      <td>176.48</td>\n      <td>225.792</td>\n      <td>Drama</td>\n      <td>55</td>\n      <td>395</td>\n      <td>72400</td>\n    </tr>\n  </tbody>\n</table>\n</div>",
            "text/plain": "   Marketing expense  Production expense  Multiplex coverage     Budget  \\\n0            20.1264               59.62               0.462  36524.125   \n1            20.5462               69.14               0.531  35668.655   \n2            20.5458               69.14               0.531  39912.675   \n3            20.6474               59.36               0.542  38873.890   \n4            21.3810               59.36               0.542  39701.585   \n\n   Movie_length  Lead_ Actor_Rating  Lead_Actress_rating  Director_rating  \\\n0         138.7               7.825                8.095            7.910   \n1         152.4               7.505                7.650            7.440   \n2         134.6               7.485                7.570            7.495   \n3         119.3               6.895                7.035            6.920   \n4         127.7               6.920                7.070            6.815   \n\n   Producer_rating  Critic_rating  Trailer_views 3D_available  Time_taken  \\\n0            7.995           7.94         527367          YES      109.60   \n1            7.470           7.44         494055           NO      146.64   \n2            7.515           7.44         547051           NO      147.88   \n3            7.020           8.26         516279          YES      185.36   \n4            7.070           8.26         531448           NO      176.48   \n\n   Twitter_hastags     Genre  Avg_age_actors  Num_multiplex  Collection  \n0          223.840  Thriller              23            494       48000  \n1          243.456     Drama              42            462       43200  \n2         2022.400    Comedy              38            458       69400  \n3          225.344     Drama              45            472       66800  \n4          225.792     Drama              55            395       72400  "
          },
          "metadata": {}
        }
      ]
    },
    {
      "metadata": {
        "trusted": true
      },
      "cell_type": "code",
      "source": "df['Genre'].values\n\ndf['Genre'].value_counts()",
      "execution_count": 36,
      "outputs": [
        {
          "output_type": "execute_result",
          "execution_count": 36,
          "data": {
            "text/plain": "Thriller    183\nComedy      155\nDrama        97\nAction       71\nName: Genre, dtype: int64"
          },
          "metadata": {}
        }
      ]
    },
    {
      "metadata": {
        "trusted": true
      },
      "cell_type": "code",
      "source": "df=pd.get_dummies(df,columns=['3D_available','Genre'],drop_first=True)",
      "execution_count": 37,
      "outputs": []
    },
    {
      "metadata": {
        "trusted": true
      },
      "cell_type": "code",
      "source": "df.head()",
      "execution_count": 38,
      "outputs": [
        {
          "output_type": "execute_result",
          "execution_count": 38,
          "data": {
            "text/html": "<div>\n<table border=\"1\" class=\"dataframe\">\n  <thead>\n    <tr style=\"text-align: right;\">\n      <th></th>\n      <th>Marketing expense</th>\n      <th>Production expense</th>\n      <th>Multiplex coverage</th>\n      <th>Budget</th>\n      <th>Movie_length</th>\n      <th>Lead_ Actor_Rating</th>\n      <th>Lead_Actress_rating</th>\n      <th>Director_rating</th>\n      <th>Producer_rating</th>\n      <th>Critic_rating</th>\n      <th>Trailer_views</th>\n      <th>Time_taken</th>\n      <th>Twitter_hastags</th>\n      <th>Avg_age_actors</th>\n      <th>Num_multiplex</th>\n      <th>Collection</th>\n      <th>3D_available_YES</th>\n      <th>Genre_Comedy</th>\n      <th>Genre_Drama</th>\n      <th>Genre_Thriller</th>\n    </tr>\n  </thead>\n  <tbody>\n    <tr>\n      <th>0</th>\n      <td>20.1264</td>\n      <td>59.62</td>\n      <td>0.462</td>\n      <td>36524.125</td>\n      <td>138.7</td>\n      <td>7.825</td>\n      <td>8.095</td>\n      <td>7.910</td>\n      <td>7.995</td>\n      <td>7.94</td>\n      <td>527367</td>\n      <td>109.60</td>\n      <td>223.840</td>\n      <td>23</td>\n      <td>494</td>\n      <td>48000</td>\n      <td>1</td>\n      <td>0</td>\n      <td>0</td>\n      <td>1</td>\n    </tr>\n    <tr>\n      <th>1</th>\n      <td>20.5462</td>\n      <td>69.14</td>\n      <td>0.531</td>\n      <td>35668.655</td>\n      <td>152.4</td>\n      <td>7.505</td>\n      <td>7.650</td>\n      <td>7.440</td>\n      <td>7.470</td>\n      <td>7.44</td>\n      <td>494055</td>\n      <td>146.64</td>\n      <td>243.456</td>\n      <td>42</td>\n      <td>462</td>\n      <td>43200</td>\n      <td>0</td>\n      <td>0</td>\n      <td>1</td>\n      <td>0</td>\n    </tr>\n    <tr>\n      <th>2</th>\n      <td>20.5458</td>\n      <td>69.14</td>\n      <td>0.531</td>\n      <td>39912.675</td>\n      <td>134.6</td>\n      <td>7.485</td>\n      <td>7.570</td>\n      <td>7.495</td>\n      <td>7.515</td>\n      <td>7.44</td>\n      <td>547051</td>\n      <td>147.88</td>\n      <td>2022.400</td>\n      <td>38</td>\n      <td>458</td>\n      <td>69400</td>\n      <td>0</td>\n      <td>1</td>\n      <td>0</td>\n      <td>0</td>\n    </tr>\n    <tr>\n      <th>3</th>\n      <td>20.6474</td>\n      <td>59.36</td>\n      <td>0.542</td>\n      <td>38873.890</td>\n      <td>119.3</td>\n      <td>6.895</td>\n      <td>7.035</td>\n      <td>6.920</td>\n      <td>7.020</td>\n      <td>8.26</td>\n      <td>516279</td>\n      <td>185.36</td>\n      <td>225.344</td>\n      <td>45</td>\n      <td>472</td>\n      <td>66800</td>\n      <td>1</td>\n      <td>0</td>\n      <td>1</td>\n      <td>0</td>\n    </tr>\n    <tr>\n      <th>4</th>\n      <td>21.3810</td>\n      <td>59.36</td>\n      <td>0.542</td>\n      <td>39701.585</td>\n      <td>127.7</td>\n      <td>6.920</td>\n      <td>7.070</td>\n      <td>6.815</td>\n      <td>7.070</td>\n      <td>8.26</td>\n      <td>531448</td>\n      <td>176.48</td>\n      <td>225.792</td>\n      <td>55</td>\n      <td>395</td>\n      <td>72400</td>\n      <td>0</td>\n      <td>0</td>\n      <td>1</td>\n      <td>0</td>\n    </tr>\n  </tbody>\n</table>\n</div>",
            "text/plain": "   Marketing expense  Production expense  Multiplex coverage     Budget  \\\n0            20.1264               59.62               0.462  36524.125   \n1            20.5462               69.14               0.531  35668.655   \n2            20.5458               69.14               0.531  39912.675   \n3            20.6474               59.36               0.542  38873.890   \n4            21.3810               59.36               0.542  39701.585   \n\n   Movie_length  Lead_ Actor_Rating  Lead_Actress_rating  Director_rating  \\\n0         138.7               7.825                8.095            7.910   \n1         152.4               7.505                7.650            7.440   \n2         134.6               7.485                7.570            7.495   \n3         119.3               6.895                7.035            6.920   \n4         127.7               6.920                7.070            6.815   \n\n   Producer_rating  Critic_rating  Trailer_views  Time_taken  Twitter_hastags  \\\n0            7.995           7.94         527367      109.60          223.840   \n1            7.470           7.44         494055      146.64          243.456   \n2            7.515           7.44         547051      147.88         2022.400   \n3            7.020           8.26         516279      185.36          225.344   \n4            7.070           8.26         531448      176.48          225.792   \n\n   Avg_age_actors  Num_multiplex  Collection  3D_available_YES  Genre_Comedy  \\\n0              23            494       48000                 1             0   \n1              42            462       43200                 0             0   \n2              38            458       69400                 0             1   \n3              45            472       66800                 1             0   \n4              55            395       72400                 0             0   \n\n   Genre_Drama  Genre_Thriller  \n0            0               1  \n1            1               0  \n2            0               0  \n3            1               0  \n4            1               0  "
          },
          "metadata": {}
        }
      ]
    },
    {
      "metadata": {},
      "cell_type": "markdown",
      "source": "### X-y split"
    },
    {
      "metadata": {
        "trusted": true
      },
      "cell_type": "code",
      "source": "X = df.loc[:,df.columns!=\"Collection\"]\ntype(X)",
      "execution_count": 39,
      "outputs": [
        {
          "output_type": "execute_result",
          "execution_count": 39,
          "data": {
            "text/plain": "pandas.core.frame.DataFrame"
          },
          "metadata": {}
        }
      ]
    },
    {
      "metadata": {
        "trusted": true
      },
      "cell_type": "code",
      "source": "X.head()",
      "execution_count": 40,
      "outputs": [
        {
          "output_type": "execute_result",
          "execution_count": 40,
          "data": {
            "text/html": "<div>\n<table border=\"1\" class=\"dataframe\">\n  <thead>\n    <tr style=\"text-align: right;\">\n      <th></th>\n      <th>Marketing expense</th>\n      <th>Production expense</th>\n      <th>Multiplex coverage</th>\n      <th>Budget</th>\n      <th>Movie_length</th>\n      <th>Lead_ Actor_Rating</th>\n      <th>Lead_Actress_rating</th>\n      <th>Director_rating</th>\n      <th>Producer_rating</th>\n      <th>Critic_rating</th>\n      <th>Trailer_views</th>\n      <th>Time_taken</th>\n      <th>Twitter_hastags</th>\n      <th>Avg_age_actors</th>\n      <th>Num_multiplex</th>\n      <th>3D_available_YES</th>\n      <th>Genre_Comedy</th>\n      <th>Genre_Drama</th>\n      <th>Genre_Thriller</th>\n    </tr>\n  </thead>\n  <tbody>\n    <tr>\n      <th>0</th>\n      <td>20.1264</td>\n      <td>59.62</td>\n      <td>0.462</td>\n      <td>36524.125</td>\n      <td>138.7</td>\n      <td>7.825</td>\n      <td>8.095</td>\n      <td>7.910</td>\n      <td>7.995</td>\n      <td>7.94</td>\n      <td>527367</td>\n      <td>109.60</td>\n      <td>223.840</td>\n      <td>23</td>\n      <td>494</td>\n      <td>1</td>\n      <td>0</td>\n      <td>0</td>\n      <td>1</td>\n    </tr>\n    <tr>\n      <th>1</th>\n      <td>20.5462</td>\n      <td>69.14</td>\n      <td>0.531</td>\n      <td>35668.655</td>\n      <td>152.4</td>\n      <td>7.505</td>\n      <td>7.650</td>\n      <td>7.440</td>\n      <td>7.470</td>\n      <td>7.44</td>\n      <td>494055</td>\n      <td>146.64</td>\n      <td>243.456</td>\n      <td>42</td>\n      <td>462</td>\n      <td>0</td>\n      <td>0</td>\n      <td>1</td>\n      <td>0</td>\n    </tr>\n    <tr>\n      <th>2</th>\n      <td>20.5458</td>\n      <td>69.14</td>\n      <td>0.531</td>\n      <td>39912.675</td>\n      <td>134.6</td>\n      <td>7.485</td>\n      <td>7.570</td>\n      <td>7.495</td>\n      <td>7.515</td>\n      <td>7.44</td>\n      <td>547051</td>\n      <td>147.88</td>\n      <td>2022.400</td>\n      <td>38</td>\n      <td>458</td>\n      <td>0</td>\n      <td>1</td>\n      <td>0</td>\n      <td>0</td>\n    </tr>\n    <tr>\n      <th>3</th>\n      <td>20.6474</td>\n      <td>59.36</td>\n      <td>0.542</td>\n      <td>38873.890</td>\n      <td>119.3</td>\n      <td>6.895</td>\n      <td>7.035</td>\n      <td>6.920</td>\n      <td>7.020</td>\n      <td>8.26</td>\n      <td>516279</td>\n      <td>185.36</td>\n      <td>225.344</td>\n      <td>45</td>\n      <td>472</td>\n      <td>1</td>\n      <td>0</td>\n      <td>1</td>\n      <td>0</td>\n    </tr>\n    <tr>\n      <th>4</th>\n      <td>21.3810</td>\n      <td>59.36</td>\n      <td>0.542</td>\n      <td>39701.585</td>\n      <td>127.7</td>\n      <td>6.920</td>\n      <td>7.070</td>\n      <td>6.815</td>\n      <td>7.070</td>\n      <td>8.26</td>\n      <td>531448</td>\n      <td>176.48</td>\n      <td>225.792</td>\n      <td>55</td>\n      <td>395</td>\n      <td>0</td>\n      <td>0</td>\n      <td>1</td>\n      <td>0</td>\n    </tr>\n  </tbody>\n</table>\n</div>",
            "text/plain": "   Marketing expense  Production expense  Multiplex coverage     Budget  \\\n0            20.1264               59.62               0.462  36524.125   \n1            20.5462               69.14               0.531  35668.655   \n2            20.5458               69.14               0.531  39912.675   \n3            20.6474               59.36               0.542  38873.890   \n4            21.3810               59.36               0.542  39701.585   \n\n   Movie_length  Lead_ Actor_Rating  Lead_Actress_rating  Director_rating  \\\n0         138.7               7.825                8.095            7.910   \n1         152.4               7.505                7.650            7.440   \n2         134.6               7.485                7.570            7.495   \n3         119.3               6.895                7.035            6.920   \n4         127.7               6.920                7.070            6.815   \n\n   Producer_rating  Critic_rating  Trailer_views  Time_taken  Twitter_hastags  \\\n0            7.995           7.94         527367      109.60          223.840   \n1            7.470           7.44         494055      146.64          243.456   \n2            7.515           7.44         547051      147.88         2022.400   \n3            7.020           8.26         516279      185.36          225.344   \n4            7.070           8.26         531448      176.48          225.792   \n\n   Avg_age_actors  Num_multiplex  3D_available_YES  Genre_Comedy  Genre_Drama  \\\n0              23            494                 1             0            0   \n1              42            462                 0             0            1   \n2              38            458                 0             1            0   \n3              45            472                 1             0            1   \n4              55            395                 0             0            1   \n\n   Genre_Thriller  \n0               1  \n1               0  \n2               0  \n3               0  \n4               0  "
          },
          "metadata": {}
        }
      ]
    },
    {
      "metadata": {
        "trusted": true
      },
      "cell_type": "code",
      "source": "X.shape",
      "execution_count": 41,
      "outputs": [
        {
          "output_type": "execute_result",
          "execution_count": 41,
          "data": {
            "text/plain": "(506, 19)"
          },
          "metadata": {}
        }
      ]
    },
    {
      "metadata": {
        "trusted": true
      },
      "cell_type": "code",
      "source": "y = df[\"Collection\"]\ntype(y)",
      "execution_count": 43,
      "outputs": [
        {
          "output_type": "execute_result",
          "execution_count": 43,
          "data": {
            "text/plain": "pandas.core.series.Series"
          },
          "metadata": {}
        }
      ]
    },
    {
      "metadata": {
        "trusted": true
      },
      "cell_type": "code",
      "source": "y.head()",
      "execution_count": 44,
      "outputs": [
        {
          "output_type": "execute_result",
          "execution_count": 44,
          "data": {
            "text/plain": "0    48000\n1    43200\n2    69400\n3    66800\n4    72400\nName: Collection, dtype: int64"
          },
          "metadata": {}
        }
      ]
    },
    {
      "metadata": {
        "trusted": true
      },
      "cell_type": "code",
      "source": "y.shape",
      "execution_count": 45,
      "outputs": [
        {
          "output_type": "execute_result",
          "execution_count": 45,
          "data": {
            "text/plain": "(506,)"
          },
          "metadata": {}
        }
      ]
    },
    {
      "metadata": {},
      "cell_type": "markdown",
      "source": "### Test-Train Split"
    },
    {
      "metadata": {
        "trusted": true
      },
      "cell_type": "code",
      "source": "from sklearn.model_selection import train_test_split",
      "execution_count": 46,
      "outputs": []
    },
    {
      "metadata": {
        "trusted": true
      },
      "cell_type": "code",
      "source": "X_train, X_test, y_train, y_test = train_test_split(X, y,test_size=0.2,random_state=0)",
      "execution_count": 47,
      "outputs": []
    },
    {
      "metadata": {
        "trusted": true
      },
      "cell_type": "code",
      "source": "X_train.head()",
      "execution_count": 48,
      "outputs": [
        {
          "output_type": "execute_result",
          "execution_count": 48,
          "data": {
            "text/html": "<div>\n<table border=\"1\" class=\"dataframe\">\n  <thead>\n    <tr style=\"text-align: right;\">\n      <th></th>\n      <th>Marketing expense</th>\n      <th>Production expense</th>\n      <th>Multiplex coverage</th>\n      <th>Budget</th>\n      <th>Movie_length</th>\n      <th>Lead_ Actor_Rating</th>\n      <th>Lead_Actress_rating</th>\n      <th>Director_rating</th>\n      <th>Producer_rating</th>\n      <th>Critic_rating</th>\n      <th>Trailer_views</th>\n      <th>Time_taken</th>\n      <th>Twitter_hastags</th>\n      <th>Avg_age_actors</th>\n      <th>Num_multiplex</th>\n      <th>3D_available_YES</th>\n      <th>Genre_Comedy</th>\n      <th>Genre_Drama</th>\n      <th>Genre_Thriller</th>\n    </tr>\n  </thead>\n  <tbody>\n    <tr>\n      <th>220</th>\n      <td>27.1618</td>\n      <td>67.40</td>\n      <td>0.493</td>\n      <td>38612.805</td>\n      <td>162.0</td>\n      <td>8.485</td>\n      <td>8.640</td>\n      <td>8.485</td>\n      <td>8.670</td>\n      <td>8.52</td>\n      <td>480270</td>\n      <td>174.68</td>\n      <td>224.272</td>\n      <td>23</td>\n      <td>536</td>\n      <td>0</td>\n      <td>0</td>\n      <td>0</td>\n      <td>1</td>\n    </tr>\n    <tr>\n      <th>71</th>\n      <td>23.1752</td>\n      <td>76.62</td>\n      <td>0.587</td>\n      <td>33113.355</td>\n      <td>91.0</td>\n      <td>7.280</td>\n      <td>7.400</td>\n      <td>7.290</td>\n      <td>7.455</td>\n      <td>8.16</td>\n      <td>491978</td>\n      <td>200.68</td>\n      <td>263.472</td>\n      <td>46</td>\n      <td>400</td>\n      <td>0</td>\n      <td>0</td>\n      <td>0</td>\n      <td>0</td>\n    </tr>\n    <tr>\n      <th>240</th>\n      <td>22.2658</td>\n      <td>64.86</td>\n      <td>0.572</td>\n      <td>38312.835</td>\n      <td>127.8</td>\n      <td>6.755</td>\n      <td>6.935</td>\n      <td>6.800</td>\n      <td>6.840</td>\n      <td>8.68</td>\n      <td>470107</td>\n      <td>204.80</td>\n      <td>224.320</td>\n      <td>24</td>\n      <td>387</td>\n      <td>1</td>\n      <td>1</td>\n      <td>0</td>\n      <td>0</td>\n    </tr>\n    <tr>\n      <th>6</th>\n      <td>21.7658</td>\n      <td>70.74</td>\n      <td>0.476</td>\n      <td>33396.660</td>\n      <td>140.1</td>\n      <td>7.065</td>\n      <td>7.265</td>\n      <td>7.150</td>\n      <td>7.400</td>\n      <td>8.96</td>\n      <td>459241</td>\n      <td>139.16</td>\n      <td>243.664</td>\n      <td>41</td>\n      <td>522</td>\n      <td>1</td>\n      <td>0</td>\n      <td>0</td>\n      <td>1</td>\n    </tr>\n    <tr>\n      <th>417</th>\n      <td>538.8120</td>\n      <td>91.20</td>\n      <td>0.321</td>\n      <td>29463.720</td>\n      <td>162.6</td>\n      <td>9.135</td>\n      <td>9.305</td>\n      <td>9.095</td>\n      <td>9.165</td>\n      <td>6.96</td>\n      <td>302776</td>\n      <td>172.16</td>\n      <td>301.664</td>\n      <td>60</td>\n      <td>589</td>\n      <td>1</td>\n      <td>0</td>\n      <td>0</td>\n      <td>0</td>\n    </tr>\n  </tbody>\n</table>\n</div>",
            "text/plain": "     Marketing expense  Production expense  Multiplex coverage     Budget  \\\n220            27.1618               67.40               0.493  38612.805   \n71             23.1752               76.62               0.587  33113.355   \n240            22.2658               64.86               0.572  38312.835   \n6              21.7658               70.74               0.476  33396.660   \n417           538.8120               91.20               0.321  29463.720   \n\n     Movie_length  Lead_ Actor_Rating  Lead_Actress_rating  Director_rating  \\\n220         162.0               8.485                8.640            8.485   \n71           91.0               7.280                7.400            7.290   \n240         127.8               6.755                6.935            6.800   \n6           140.1               7.065                7.265            7.150   \n417         162.6               9.135                9.305            9.095   \n\n     Producer_rating  Critic_rating  Trailer_views  Time_taken  \\\n220            8.670           8.52         480270      174.68   \n71             7.455           8.16         491978      200.68   \n240            6.840           8.68         470107      204.80   \n6              7.400           8.96         459241      139.16   \n417            9.165           6.96         302776      172.16   \n\n     Twitter_hastags  Avg_age_actors  Num_multiplex  3D_available_YES  \\\n220          224.272              23            536                 0   \n71           263.472              46            400                 0   \n240          224.320              24            387                 1   \n6            243.664              41            522                 1   \n417          301.664              60            589                 1   \n\n     Genre_Comedy  Genre_Drama  Genre_Thriller  \n220             0            0               1  \n71              0            0               0  \n240             1            0               0  \n6               0            0               1  \n417             0            0               0  "
          },
          "metadata": {}
        }
      ]
    },
    {
      "metadata": {
        "trusted": true
      },
      "cell_type": "code",
      "source": "X_train.shape",
      "execution_count": 49,
      "outputs": [
        {
          "output_type": "execute_result",
          "execution_count": 49,
          "data": {
            "text/plain": "(404, 19)"
          },
          "metadata": {}
        }
      ]
    },
    {
      "metadata": {
        "trusted": true
      },
      "cell_type": "code",
      "source": "X_test.shape",
      "execution_count": 50,
      "outputs": [
        {
          "output_type": "execute_result",
          "execution_count": 50,
          "data": {
            "text/plain": "(102, 19)"
          },
          "metadata": {}
        }
      ]
    },
    {
      "metadata": {},
      "cell_type": "markdown",
      "source": "### Standardizing Data\nhttps://scikit-learn.org/stable/modules/generated/sklearn.preprocessing.StandardScaler.html"
    },
    {
      "metadata": {
        "trusted": true
      },
      "cell_type": "code",
      "source": "from sklearn.preprocessing import StandardScaler",
      "execution_count": 51,
      "outputs": []
    },
    {
      "metadata": {
        "trusted": true
      },
      "cell_type": "code",
      "source": "sc = StandardScaler().fit(X_train)\nprint(sc)",
      "execution_count": 53,
      "outputs": [
        {
          "output_type": "stream",
          "text": "StandardScaler(copy=True, with_mean=True, with_std=True)\n",
          "name": "stdout"
        }
      ]
    },
    {
      "metadata": {
        "trusted": true
      },
      "cell_type": "code",
      "source": "X_train_std = sc.transform(X_train)",
      "execution_count": 54,
      "outputs": []
    },
    {
      "metadata": {
        "trusted": true
      },
      "cell_type": "code",
      "source": "X_test_std = sc.transform(X_test)",
      "execution_count": 55,
      "outputs": []
    },
    {
      "metadata": {
        "scrolled": true,
        "trusted": true
      },
      "cell_type": "code",
      "source": "X_test_std",
      "execution_count": 56,
      "outputs": [
        {
          "output_type": "execute_result",
          "execution_count": 56,
          "data": {
            "text/plain": "array([[-0.40835869, -1.12872913,  0.83336883, ...,  1.50268577,\n        -0.48525664, -0.75225758],\n       [ 0.71925111,  0.9988844 , -0.65283979, ...,  1.50268577,\n        -0.48525664, -0.75225758],\n       [-0.40257488,  0.39610829,  0.05115377, ...,  1.50268577,\n        -0.48525664, -0.75225758],\n       ...,\n       [-0.3982601 , -0.85812418,  0.89420778, ..., -0.66547513,\n        -0.48525664,  1.3293319 ],\n       [-0.39934279, -0.07637654,  0.58132175, ...,  1.50268577,\n        -0.48525664, -0.75225758],\n       [-0.40088071, -0.36702631,  0.31189212, ..., -0.66547513,\n        -0.48525664, -0.75225758]])"
          },
          "metadata": {}
        }
      ]
    },
    {
      "metadata": {
        "trusted": true
      },
      "cell_type": "code",
      "source": "X_test.head()",
      "execution_count": 58,
      "outputs": [
        {
          "output_type": "execute_result",
          "execution_count": 58,
          "data": {
            "text/html": "<div>\n<table border=\"1\" class=\"dataframe\">\n  <thead>\n    <tr style=\"text-align: right;\">\n      <th></th>\n      <th>Marketing expense</th>\n      <th>Production expense</th>\n      <th>Multiplex coverage</th>\n      <th>Budget</th>\n      <th>Movie_length</th>\n      <th>Lead_ Actor_Rating</th>\n      <th>Lead_Actress_rating</th>\n      <th>Director_rating</th>\n      <th>Producer_rating</th>\n      <th>Critic_rating</th>\n      <th>Trailer_views</th>\n      <th>Time_taken</th>\n      <th>Twitter_hastags</th>\n      <th>Avg_age_actors</th>\n      <th>Num_multiplex</th>\n      <th>3D_available_YES</th>\n      <th>Genre_Comedy</th>\n      <th>Genre_Drama</th>\n      <th>Genre_Thriller</th>\n    </tr>\n  </thead>\n  <tbody>\n    <tr>\n      <th>329</th>\n      <td>21.3448</td>\n      <td>61.48</td>\n      <td>0.540</td>\n      <td>35179.815</td>\n      <td>90.7</td>\n      <td>7.320</td>\n      <td>7.460</td>\n      <td>7.275</td>\n      <td>7.515</td>\n      <td>8.62</td>\n      <td>483051</td>\n      <td>111.040000</td>\n      <td>283.616</td>\n      <td>53</td>\n      <td>452</td>\n      <td>0</td>\n      <td>1</td>\n      <td>0</td>\n      <td>0</td>\n    </tr>\n    <tr>\n      <th>371</th>\n      <td>204.6460</td>\n      <td>91.20</td>\n      <td>0.369</td>\n      <td>34529.880</td>\n      <td>173.5</td>\n      <td>9.310</td>\n      <td>9.525</td>\n      <td>9.320</td>\n      <td>9.505</td>\n      <td>7.96</td>\n      <td>454281</td>\n      <td>196.000000</td>\n      <td>268.000</td>\n      <td>25</td>\n      <td>609</td>\n      <td>1</td>\n      <td>1</td>\n      <td>0</td>\n      <td>0</td>\n    </tr>\n    <tr>\n      <th>219</th>\n      <td>22.2850</td>\n      <td>82.78</td>\n      <td>0.450</td>\n      <td>35402.015</td>\n      <td>165.9</td>\n      <td>8.175</td>\n      <td>8.375</td>\n      <td>8.315</td>\n      <td>8.405</td>\n      <td>8.72</td>\n      <td>451935</td>\n      <td>123.200000</td>\n      <td>263.680</td>\n      <td>21</td>\n      <td>561</td>\n      <td>1</td>\n      <td>1</td>\n      <td>0</td>\n      <td>0</td>\n    </tr>\n    <tr>\n      <th>403</th>\n      <td>516.0340</td>\n      <td>91.20</td>\n      <td>0.307</td>\n      <td>29713.695</td>\n      <td>169.5</td>\n      <td>9.125</td>\n      <td>9.310</td>\n      <td>9.060</td>\n      <td>9.100</td>\n      <td>6.96</td>\n      <td>384237</td>\n      <td>157.391498</td>\n      <td>301.328</td>\n      <td>40</td>\n      <td>677</td>\n      <td>1</td>\n      <td>0</td>\n      <td>0</td>\n      <td>1</td>\n    </tr>\n    <tr>\n      <th>78</th>\n      <td>21.1292</td>\n      <td>80.66</td>\n      <td>0.563</td>\n      <td>34618.760</td>\n      <td>127.2</td>\n      <td>7.330</td>\n      <td>7.500</td>\n      <td>7.450</td>\n      <td>7.690</td>\n      <td>8.26</td>\n      <td>447528</td>\n      <td>176.480000</td>\n      <td>303.392</td>\n      <td>53</td>\n      <td>377</td>\n      <td>1</td>\n      <td>0</td>\n      <td>1</td>\n      <td>0</td>\n    </tr>\n  </tbody>\n</table>\n</div>",
            "text/plain": "     Marketing expense  Production expense  Multiplex coverage     Budget  \\\n329            21.3448               61.48               0.540  35179.815   \n371           204.6460               91.20               0.369  34529.880   \n219            22.2850               82.78               0.450  35402.015   \n403           516.0340               91.20               0.307  29713.695   \n78             21.1292               80.66               0.563  34618.760   \n\n     Movie_length  Lead_ Actor_Rating  Lead_Actress_rating  Director_rating  \\\n329          90.7               7.320                7.460            7.275   \n371         173.5               9.310                9.525            9.320   \n219         165.9               8.175                8.375            8.315   \n403         169.5               9.125                9.310            9.060   \n78          127.2               7.330                7.500            7.450   \n\n     Producer_rating  Critic_rating  Trailer_views  Time_taken  \\\n329            7.515           8.62         483051  111.040000   \n371            9.505           7.96         454281  196.000000   \n219            8.405           8.72         451935  123.200000   \n403            9.100           6.96         384237  157.391498   \n78             7.690           8.26         447528  176.480000   \n\n     Twitter_hastags  Avg_age_actors  Num_multiplex  3D_available_YES  \\\n329          283.616              53            452                 0   \n371          268.000              25            609                 1   \n219          263.680              21            561                 1   \n403          301.328              40            677                 1   \n78           303.392              53            377                 1   \n\n     Genre_Comedy  Genre_Drama  Genre_Thriller  \n329             1            0               0  \n371             1            0               0  \n219             1            0               0  \n403             0            0               1  \n78              0            1               0  "
          },
          "metadata": {}
        }
      ]
    },
    {
      "metadata": {},
      "cell_type": "markdown",
      "source": "### Training Regression Tree\nhttps://scikit-learn.org/stable/modules/generated/sklearn.svm.SVR.html"
    },
    {
      "metadata": {
        "trusted": true
      },
      "cell_type": "code",
      "source": "from sklearn.svm import SVR\nsvr = SVR(kernel='linear', C = 500)",
      "execution_count": 92,
      "outputs": []
    },
    {
      "metadata": {
        "trusted": true
      },
      "cell_type": "code",
      "source": "svr.fit(X_train_std, y_train)",
      "execution_count": 93,
      "outputs": [
        {
          "output_type": "execute_result",
          "execution_count": 93,
          "data": {
            "text/plain": "SVR(C=500, cache_size=200, coef0=0.0, degree=3, epsilon=0.1, gamma='auto',\n  kernel='linear', max_iter=-1, shrinking=True, tol=0.001, verbose=False)"
          },
          "metadata": {}
        }
      ]
    },
    {
      "metadata": {
        "trusted": true
      },
      "cell_type": "code",
      "source": "y_train.head()",
      "execution_count": 94,
      "outputs": [
        {
          "output_type": "execute_result",
          "execution_count": 94,
          "data": {
            "text/plain": "220    53400\n71     43400\n240    54000\n6      45800\n417    20800\nName: Collection, dtype: int64"
          },
          "metadata": {}
        }
      ]
    },
    {
      "metadata": {},
      "cell_type": "markdown",
      "source": "### Predict values using trained model"
    },
    {
      "metadata": {
        "trusted": true
      },
      "cell_type": "code",
      "source": "y_test_pred = svr.predict(X_test_std)\ny_train_pred = svr.predict(X_train_std)",
      "execution_count": 97,
      "outputs": []
    },
    {
      "metadata": {
        "trusted": true
      },
      "cell_type": "code",
      "source": "new=y_train_pred.tolist()",
      "execution_count": 98,
      "outputs": []
    },
    {
      "metadata": {
        "trusted": true
      },
      "cell_type": "code",
      "source": "df_predict=pd.DataFrame(new,columns=['Collection'])#just to check that original collection value after using svm for training data and compare with original collection\ndf_predict.head()",
      "execution_count": 99,
      "outputs": [
        {
          "output_type": "execute_result",
          "execution_count": 99,
          "data": {
            "text/html": "<div>\n<table border=\"1\" class=\"dataframe\">\n  <thead>\n    <tr style=\"text-align: right;\">\n      <th></th>\n      <th>Collection</th>\n    </tr>\n  </thead>\n  <tbody>\n    <tr>\n      <th>0</th>\n      <td>58680.057253</td>\n    </tr>\n    <tr>\n      <th>1</th>\n      <td>46761.458324</td>\n    </tr>\n    <tr>\n      <th>2</th>\n      <td>56891.280702</td>\n    </tr>\n    <tr>\n      <th>3</th>\n      <td>45798.508289</td>\n    </tr>\n    <tr>\n      <th>4</th>\n      <td>12638.395672</td>\n    </tr>\n  </tbody>\n</table>\n</div>",
            "text/plain": "     Collection\n0  58680.057253\n1  46761.458324\n2  56891.280702\n3  45798.508289\n4  12638.395672"
          },
          "metadata": {}
        }
      ]
    },
    {
      "metadata": {
        "trusted": true
      },
      "cell_type": "code",
      "source": "y_test_pred",
      "execution_count": 100,
      "outputs": [
        {
          "output_type": "execute_result",
          "execution_count": 100,
          "data": {
            "text/plain": "array([54172.88652594, 42360.53493593, 47535.6161038 , 18213.44501931,\n       48306.49797341, 39911.30264079, 34154.82438396, 43328.81857968,\n       30564.16305183, 47083.06891754, 12883.41530221, 38441.56120077,\n       37564.58419372,  8833.24108759, 66743.92804381, 61806.13858546,\n       38834.69156187, 65442.06460586, 57070.43984968, 43390.83509428,\n       53825.48454161, 39211.12088433, 41594.24518385, 58253.12540463,\n       43061.94784582, 13500.91595213, 41078.73255014, 29760.22077231,\n       74387.42055942, 44639.66629805, 36802.04559594, 37452.7520558 ,\n       37731.81412736, 41015.55708641, 52033.72818305, 35527.23097608,\n       25303.12301261, 36494.03996199, 36688.32304647, 35826.51769434,\n       47334.38882548, 45971.16054321, 44806.68292955, 27789.57095575,\n       50531.9130427 , 46829.47085744, 33272.97210625, 40080.92308753,\n       15821.17728949, 51706.04815075, 41321.1168448 , 39172.79222897,\n       47629.5707835 , 67355.55689102, 25492.33272751, 41679.44337221,\n       41379.49762789, 34427.17713275, 21377.91828316, 39452.27959782,\n       41507.57017201, 41385.5239056 , 65347.76215186, 64736.21438211,\n       28593.55570235, 63698.03827034, 36970.12451775, 39406.74374756,\n       41973.97645116, 47369.99815953, 46652.62938354, 48994.20498719,\n       56649.26148628, 59975.23317298, 49078.5601437 , 10912.138065  ,\n       73562.82718846, 44678.03516748, 59180.88872696, 37972.78016716,\n       50589.51792056, 43193.66617698, 32319.84798601, 81142.93982977,\n       79182.31572751, 47921.64416102, 50883.92006966, 30257.60843529,\n       49351.30165872, 37957.94782027, 34050.12134468, 34292.7678546 ,\n       43358.96621447, 59307.33495314, 43944.23913867, 42437.47964898,\n       -4323.02292967, 52578.89987851, 36600.53522275, 32376.05402602,\n       49724.89750621, 48509.77098809])"
          },
          "metadata": {}
        }
      ]
    },
    {
      "metadata": {},
      "cell_type": "markdown",
      "source": "### Model Performance"
    },
    {
      "metadata": {
        "trusted": true
      },
      "cell_type": "code",
      "source": "from sklearn.metrics import mean_squared_error, r2_score",
      "execution_count": 101,
      "outputs": []
    },
    {
      "metadata": {
        "trusted": true
      },
      "cell_type": "code",
      "source": "mean_squared_error(y_test, y_test_pred)#compare this  value with any other model if there",
      "execution_count": 102,
      "outputs": [
        {
          "output_type": "execute_result",
          "execution_count": 102,
          "data": {
            "text/plain": "160031907.61713544"
          },
          "metadata": {}
        }
      ]
    },
    {
      "metadata": {
        "trusted": true
      },
      "cell_type": "code",
      "source": "r2_score(y_train, y_train_pred)",
      "execution_count": 103,
      "outputs": [
        {
          "output_type": "execute_result",
          "execution_count": 103,
          "data": {
            "text/plain": "0.7125944752203808"
          },
          "metadata": {}
        }
      ]
    },
    {
      "metadata": {
        "trusted": true
      },
      "cell_type": "code",
      "source": "r2_score(y_test, y_test_pred)",
      "execution_count": 104,
      "outputs": [
        {
          "output_type": "execute_result",
          "execution_count": 104,
          "data": {
            "text/plain": "0.5028901447877351"
          },
          "metadata": {}
        }
      ]
    },
    {
      "metadata": {
        "trusted": false
      },
      "cell_type": "code",
      "source": "",
      "execution_count": null,
      "outputs": []
    }
  ],
  "metadata": {
    "kernelspec": {
      "name": "python3",
      "display_name": "Python 3",
      "language": "python"
    },
    "language_info": {
      "mimetype": "text/x-python",
      "nbconvert_exporter": "python",
      "name": "python",
      "pygments_lexer": "ipython3",
      "version": "3.5.4",
      "file_extension": ".py",
      "codemirror_mode": {
        "version": 3,
        "name": "ipython"
      }
    }
  },
  "nbformat": 4,
  "nbformat_minor": 2
}