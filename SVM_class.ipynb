{
  "cells": [
    {
      "metadata": {
        "trusted": true
      },
      "cell_type": "code",
      "source": "import numpy as np\nimport pandas as pd\nimport seaborn as sns\nimport matplotlib.pyplot as plt",
      "execution_count": 13,
      "outputs": []
    },
    {
      "metadata": {
        "trusted": true
      },
      "cell_type": "code",
      "source": "df = pd.read_csv(\"Movie_classification.csv\", header=0)",
      "execution_count": 14,
      "outputs": []
    },
    {
      "metadata": {
        "trusted": true
      },
      "cell_type": "code",
      "source": "pwd",
      "execution_count": 15,
      "outputs": [
        {
          "output_type": "execute_result",
          "execution_count": 15,
          "data": {
            "text/plain": "'/home/nbuser/library'"
          },
          "metadata": {}
        }
      ]
    },
    {
      "metadata": {
        "trusted": true
      },
      "cell_type": "code",
      "source": "df.head()",
      "execution_count": 16,
      "outputs": [
        {
          "output_type": "execute_result",
          "execution_count": 16,
          "data": {
            "text/html": "<div>\n<table border=\"1\" class=\"dataframe\">\n  <thead>\n    <tr style=\"text-align: right;\">\n      <th></th>\n      <th>Marketing expense</th>\n      <th>Production expense</th>\n      <th>Multiplex coverage</th>\n      <th>Budget</th>\n      <th>Movie_length</th>\n      <th>Lead_ Actor_Rating</th>\n      <th>Lead_Actress_rating</th>\n      <th>Director_rating</th>\n      <th>Producer_rating</th>\n      <th>Critic_rating</th>\n      <th>Trailer_views</th>\n      <th>3D_available</th>\n      <th>Time_taken</th>\n      <th>Twitter_hastags</th>\n      <th>Genre</th>\n      <th>Avg_age_actors</th>\n      <th>Num_multiplex</th>\n      <th>Collection</th>\n      <th>Start_Tech_Oscar</th>\n    </tr>\n  </thead>\n  <tbody>\n    <tr>\n      <th>0</th>\n      <td>20.1264</td>\n      <td>59.62</td>\n      <td>0.462</td>\n      <td>36524.125</td>\n      <td>138.7</td>\n      <td>7.825</td>\n      <td>8.095</td>\n      <td>7.910</td>\n      <td>7.995</td>\n      <td>7.94</td>\n      <td>527367</td>\n      <td>YES</td>\n      <td>109.60</td>\n      <td>223.840</td>\n      <td>Thriller</td>\n      <td>23</td>\n      <td>494</td>\n      <td>48000</td>\n      <td>1</td>\n    </tr>\n    <tr>\n      <th>1</th>\n      <td>20.5462</td>\n      <td>69.14</td>\n      <td>0.531</td>\n      <td>35668.655</td>\n      <td>152.4</td>\n      <td>7.505</td>\n      <td>7.650</td>\n      <td>7.440</td>\n      <td>7.470</td>\n      <td>7.44</td>\n      <td>494055</td>\n      <td>NO</td>\n      <td>146.64</td>\n      <td>243.456</td>\n      <td>Drama</td>\n      <td>42</td>\n      <td>462</td>\n      <td>43200</td>\n      <td>0</td>\n    </tr>\n    <tr>\n      <th>2</th>\n      <td>20.5458</td>\n      <td>69.14</td>\n      <td>0.531</td>\n      <td>39912.675</td>\n      <td>134.6</td>\n      <td>7.485</td>\n      <td>7.570</td>\n      <td>7.495</td>\n      <td>7.515</td>\n      <td>7.44</td>\n      <td>547051</td>\n      <td>NO</td>\n      <td>147.88</td>\n      <td>2022.400</td>\n      <td>Comedy</td>\n      <td>38</td>\n      <td>458</td>\n      <td>69400</td>\n      <td>1</td>\n    </tr>\n    <tr>\n      <th>3</th>\n      <td>20.6474</td>\n      <td>59.36</td>\n      <td>0.542</td>\n      <td>38873.890</td>\n      <td>119.3</td>\n      <td>6.895</td>\n      <td>7.035</td>\n      <td>6.920</td>\n      <td>7.020</td>\n      <td>8.26</td>\n      <td>516279</td>\n      <td>YES</td>\n      <td>185.36</td>\n      <td>225.344</td>\n      <td>Drama</td>\n      <td>45</td>\n      <td>472</td>\n      <td>66800</td>\n      <td>1</td>\n    </tr>\n    <tr>\n      <th>4</th>\n      <td>21.3810</td>\n      <td>59.36</td>\n      <td>0.542</td>\n      <td>39701.585</td>\n      <td>127.7</td>\n      <td>6.920</td>\n      <td>7.070</td>\n      <td>6.815</td>\n      <td>7.070</td>\n      <td>8.26</td>\n      <td>531448</td>\n      <td>NO</td>\n      <td>176.48</td>\n      <td>225.792</td>\n      <td>Drama</td>\n      <td>55</td>\n      <td>395</td>\n      <td>72400</td>\n      <td>1</td>\n    </tr>\n  </tbody>\n</table>\n</div>",
            "text/plain": "   Marketing expense  Production expense  Multiplex coverage     Budget  \\\n0            20.1264               59.62               0.462  36524.125   \n1            20.5462               69.14               0.531  35668.655   \n2            20.5458               69.14               0.531  39912.675   \n3            20.6474               59.36               0.542  38873.890   \n4            21.3810               59.36               0.542  39701.585   \n\n   Movie_length  Lead_ Actor_Rating  Lead_Actress_rating  Director_rating  \\\n0         138.7               7.825                8.095            7.910   \n1         152.4               7.505                7.650            7.440   \n2         134.6               7.485                7.570            7.495   \n3         119.3               6.895                7.035            6.920   \n4         127.7               6.920                7.070            6.815   \n\n   Producer_rating  Critic_rating  Trailer_views 3D_available  Time_taken  \\\n0            7.995           7.94         527367          YES      109.60   \n1            7.470           7.44         494055           NO      146.64   \n2            7.515           7.44         547051           NO      147.88   \n3            7.020           8.26         516279          YES      185.36   \n4            7.070           8.26         531448           NO      176.48   \n\n   Twitter_hastags     Genre  Avg_age_actors  Num_multiplex  Collection  \\\n0          223.840  Thriller              23            494       48000   \n1          243.456     Drama              42            462       43200   \n2         2022.400    Comedy              38            458       69400   \n3          225.344     Drama              45            472       66800   \n4          225.792     Drama              55            395       72400   \n\n   Start_Tech_Oscar  \n0                 1  \n1                 0  \n2                 1  \n3                 1  \n4                 1  "
          },
          "metadata": {}
        }
      ]
    },
    {
      "metadata": {
        "trusted": true
      },
      "cell_type": "code",
      "source": "df.info()",
      "execution_count": 17,
      "outputs": [
        {
          "output_type": "stream",
          "text": "<class 'pandas.core.frame.DataFrame'>\nRangeIndex: 506 entries, 0 to 505\nData columns (total 19 columns):\nMarketing expense      506 non-null float64\nProduction expense     506 non-null float64\nMultiplex coverage     506 non-null float64\nBudget                 506 non-null float64\nMovie_length           506 non-null float64\nLead_ Actor_Rating     506 non-null float64\nLead_Actress_rating    506 non-null float64\nDirector_rating        506 non-null float64\nProducer_rating        506 non-null float64\nCritic_rating          506 non-null float64\nTrailer_views          506 non-null int64\n3D_available           506 non-null object\nTime_taken             494 non-null float64\nTwitter_hastags        506 non-null float64\nGenre                  506 non-null object\nAvg_age_actors         506 non-null int64\nNum_multiplex          506 non-null int64\nCollection             506 non-null int64\nStart_Tech_Oscar       506 non-null int64\ndtypes: float64(12), int64(5), object(2)\nmemory usage: 75.2+ KB\n",
          "name": "stdout"
        }
      ]
    },
    {
      "metadata": {
        "trusted": true
      },
      "cell_type": "code",
      "source": "df.describe()",
      "execution_count": 18,
      "outputs": [
        {
          "output_type": "execute_result",
          "execution_count": 18,
          "data": {
            "text/html": "<div>\n<table border=\"1\" class=\"dataframe\">\n  <thead>\n    <tr style=\"text-align: right;\">\n      <th></th>\n      <th>Marketing expense</th>\n      <th>Production expense</th>\n      <th>Multiplex coverage</th>\n      <th>Budget</th>\n      <th>Movie_length</th>\n      <th>Lead_ Actor_Rating</th>\n      <th>Lead_Actress_rating</th>\n      <th>Director_rating</th>\n      <th>Producer_rating</th>\n      <th>Critic_rating</th>\n      <th>Trailer_views</th>\n      <th>Time_taken</th>\n      <th>Twitter_hastags</th>\n      <th>Avg_age_actors</th>\n      <th>Num_multiplex</th>\n      <th>Collection</th>\n      <th>Start_Tech_Oscar</th>\n    </tr>\n  </thead>\n  <tbody>\n    <tr>\n      <th>count</th>\n      <td>506.000000</td>\n      <td>506.000000</td>\n      <td>506.000000</td>\n      <td>506.000000</td>\n      <td>506.000000</td>\n      <td>506.000000</td>\n      <td>506.000000</td>\n      <td>506.000000</td>\n      <td>506.000000</td>\n      <td>506.000000</td>\n      <td>506.000000</td>\n      <td>494.000000</td>\n      <td>506.000000</td>\n      <td>506.000000</td>\n      <td>506.000000</td>\n      <td>506.000000</td>\n      <td>506.000000</td>\n    </tr>\n    <tr>\n      <th>mean</th>\n      <td>92.270471</td>\n      <td>77.273557</td>\n      <td>0.445305</td>\n      <td>34911.144022</td>\n      <td>142.074901</td>\n      <td>8.014002</td>\n      <td>8.185613</td>\n      <td>8.019664</td>\n      <td>8.190514</td>\n      <td>7.810870</td>\n      <td>449860.715415</td>\n      <td>157.391498</td>\n      <td>260.832095</td>\n      <td>39.181818</td>\n      <td>545.043478</td>\n      <td>45057.707510</td>\n      <td>0.545455</td>\n    </tr>\n    <tr>\n      <th>std</th>\n      <td>172.030902</td>\n      <td>13.720706</td>\n      <td>0.115878</td>\n      <td>3903.038232</td>\n      <td>28.148861</td>\n      <td>1.054266</td>\n      <td>1.054290</td>\n      <td>1.059899</td>\n      <td>1.049601</td>\n      <td>0.659699</td>\n      <td>68917.763145</td>\n      <td>31.295161</td>\n      <td>104.779133</td>\n      <td>12.513697</td>\n      <td>106.332889</td>\n      <td>18364.351764</td>\n      <td>0.498422</td>\n    </tr>\n    <tr>\n      <th>min</th>\n      <td>20.126400</td>\n      <td>55.920000</td>\n      <td>0.129000</td>\n      <td>19781.355000</td>\n      <td>76.400000</td>\n      <td>3.840000</td>\n      <td>4.035000</td>\n      <td>3.840000</td>\n      <td>4.030000</td>\n      <td>6.600000</td>\n      <td>212912.000000</td>\n      <td>0.000000</td>\n      <td>201.152000</td>\n      <td>3.000000</td>\n      <td>333.000000</td>\n      <td>10000.000000</td>\n      <td>0.000000</td>\n    </tr>\n    <tr>\n      <th>25%</th>\n      <td>21.640900</td>\n      <td>65.380000</td>\n      <td>0.376000</td>\n      <td>32693.952500</td>\n      <td>118.525000</td>\n      <td>7.316250</td>\n      <td>7.503750</td>\n      <td>7.296250</td>\n      <td>7.507500</td>\n      <td>7.200000</td>\n      <td>409128.000000</td>\n      <td>132.300000</td>\n      <td>223.796000</td>\n      <td>28.000000</td>\n      <td>465.000000</td>\n      <td>34050.000000</td>\n      <td>0.000000</td>\n    </tr>\n    <tr>\n      <th>50%</th>\n      <td>25.130200</td>\n      <td>74.380000</td>\n      <td>0.462000</td>\n      <td>34488.217500</td>\n      <td>151.000000</td>\n      <td>8.307500</td>\n      <td>8.495000</td>\n      <td>8.312500</td>\n      <td>8.465000</td>\n      <td>7.960000</td>\n      <td>462460.000000</td>\n      <td>160.000000</td>\n      <td>254.400000</td>\n      <td>39.000000</td>\n      <td>535.500000</td>\n      <td>42400.000000</td>\n      <td>1.000000</td>\n    </tr>\n    <tr>\n      <th>75%</th>\n      <td>93.541650</td>\n      <td>91.200000</td>\n      <td>0.551000</td>\n      <td>36793.542500</td>\n      <td>167.575000</td>\n      <td>8.865000</td>\n      <td>9.030000</td>\n      <td>8.883750</td>\n      <td>9.030000</td>\n      <td>8.260000</td>\n      <td>500247.500000</td>\n      <td>181.890000</td>\n      <td>283.416000</td>\n      <td>50.000000</td>\n      <td>614.750000</td>\n      <td>50000.000000</td>\n      <td>1.000000</td>\n    </tr>\n    <tr>\n      <th>max</th>\n      <td>1799.524000</td>\n      <td>110.480000</td>\n      <td>0.615000</td>\n      <td>48772.900000</td>\n      <td>173.500000</td>\n      <td>9.435000</td>\n      <td>9.540000</td>\n      <td>9.425000</td>\n      <td>9.635000</td>\n      <td>9.400000</td>\n      <td>567784.000000</td>\n      <td>217.520000</td>\n      <td>2022.400000</td>\n      <td>60.000000</td>\n      <td>868.000000</td>\n      <td>100000.000000</td>\n      <td>1.000000</td>\n    </tr>\n  </tbody>\n</table>\n</div>",
            "text/plain": "       Marketing expense  Production expense  Multiplex coverage  \\\ncount         506.000000          506.000000          506.000000   \nmean           92.270471           77.273557            0.445305   \nstd           172.030902           13.720706            0.115878   \nmin            20.126400           55.920000            0.129000   \n25%            21.640900           65.380000            0.376000   \n50%            25.130200           74.380000            0.462000   \n75%            93.541650           91.200000            0.551000   \nmax          1799.524000          110.480000            0.615000   \n\n             Budget  Movie_length  Lead_ Actor_Rating  Lead_Actress_rating  \\\ncount    506.000000    506.000000          506.000000           506.000000   \nmean   34911.144022    142.074901            8.014002             8.185613   \nstd     3903.038232     28.148861            1.054266             1.054290   \nmin    19781.355000     76.400000            3.840000             4.035000   \n25%    32693.952500    118.525000            7.316250             7.503750   \n50%    34488.217500    151.000000            8.307500             8.495000   \n75%    36793.542500    167.575000            8.865000             9.030000   \nmax    48772.900000    173.500000            9.435000             9.540000   \n\n       Director_rating  Producer_rating  Critic_rating  Trailer_views  \\\ncount       506.000000       506.000000     506.000000     506.000000   \nmean          8.019664         8.190514       7.810870  449860.715415   \nstd           1.059899         1.049601       0.659699   68917.763145   \nmin           3.840000         4.030000       6.600000  212912.000000   \n25%           7.296250         7.507500       7.200000  409128.000000   \n50%           8.312500         8.465000       7.960000  462460.000000   \n75%           8.883750         9.030000       8.260000  500247.500000   \nmax           9.425000         9.635000       9.400000  567784.000000   \n\n       Time_taken  Twitter_hastags  Avg_age_actors  Num_multiplex  \\\ncount  494.000000       506.000000      506.000000     506.000000   \nmean   157.391498       260.832095       39.181818     545.043478   \nstd     31.295161       104.779133       12.513697     106.332889   \nmin      0.000000       201.152000        3.000000     333.000000   \n25%    132.300000       223.796000       28.000000     465.000000   \n50%    160.000000       254.400000       39.000000     535.500000   \n75%    181.890000       283.416000       50.000000     614.750000   \nmax    217.520000      2022.400000       60.000000     868.000000   \n\n          Collection  Start_Tech_Oscar  \ncount     506.000000        506.000000  \nmean    45057.707510          0.545455  \nstd     18364.351764          0.498422  \nmin     10000.000000          0.000000  \n25%     34050.000000          0.000000  \n50%     42400.000000          1.000000  \n75%     50000.000000          1.000000  \nmax    100000.000000          1.000000  "
          },
          "metadata": {}
        }
      ]
    },
    {
      "metadata": {},
      "cell_type": "markdown",
      "source": "### Missing Value Imputation"
    },
    {
      "metadata": {
        "trusted": true
      },
      "cell_type": "code",
      "source": "df['Time_taken'].mean()",
      "execution_count": 19,
      "outputs": [
        {
          "output_type": "execute_result",
          "execution_count": 19,
          "data": {
            "text/plain": "157.39149797570855"
          },
          "metadata": {}
        }
      ]
    },
    {
      "metadata": {
        "trusted": true
      },
      "cell_type": "code",
      "source": "df['Time_taken'].fillna(value = df['Time_taken'].mean(), inplace = True)",
      "execution_count": 20,
      "outputs": []
    },
    {
      "metadata": {
        "trusted": true
      },
      "cell_type": "code",
      "source": "df.info()",
      "execution_count": 21,
      "outputs": [
        {
          "output_type": "stream",
          "text": "<class 'pandas.core.frame.DataFrame'>\nRangeIndex: 506 entries, 0 to 505\nData columns (total 19 columns):\nMarketing expense      506 non-null float64\nProduction expense     506 non-null float64\nMultiplex coverage     506 non-null float64\nBudget                 506 non-null float64\nMovie_length           506 non-null float64\nLead_ Actor_Rating     506 non-null float64\nLead_Actress_rating    506 non-null float64\nDirector_rating        506 non-null float64\nProducer_rating        506 non-null float64\nCritic_rating          506 non-null float64\nTrailer_views          506 non-null int64\n3D_available           506 non-null object\nTime_taken             506 non-null float64\nTwitter_hastags        506 non-null float64\nGenre                  506 non-null object\nAvg_age_actors         506 non-null int64\nNum_multiplex          506 non-null int64\nCollection             506 non-null int64\nStart_Tech_Oscar       506 non-null int64\ndtypes: float64(12), int64(5), object(2)\nmemory usage: 75.2+ KB\n",
          "name": "stdout"
        }
      ]
    },
    {
      "metadata": {},
      "cell_type": "markdown",
      "source": "### Dummy Variable Creation"
    },
    {
      "metadata": {
        "trusted": true
      },
      "cell_type": "code",
      "source": "df.head()",
      "execution_count": 22,
      "outputs": [
        {
          "output_type": "execute_result",
          "execution_count": 22,
          "data": {
            "text/html": "<div>\n<table border=\"1\" class=\"dataframe\">\n  <thead>\n    <tr style=\"text-align: right;\">\n      <th></th>\n      <th>Marketing expense</th>\n      <th>Production expense</th>\n      <th>Multiplex coverage</th>\n      <th>Budget</th>\n      <th>Movie_length</th>\n      <th>Lead_ Actor_Rating</th>\n      <th>Lead_Actress_rating</th>\n      <th>Director_rating</th>\n      <th>Producer_rating</th>\n      <th>Critic_rating</th>\n      <th>Trailer_views</th>\n      <th>3D_available</th>\n      <th>Time_taken</th>\n      <th>Twitter_hastags</th>\n      <th>Genre</th>\n      <th>Avg_age_actors</th>\n      <th>Num_multiplex</th>\n      <th>Collection</th>\n      <th>Start_Tech_Oscar</th>\n    </tr>\n  </thead>\n  <tbody>\n    <tr>\n      <th>0</th>\n      <td>20.1264</td>\n      <td>59.62</td>\n      <td>0.462</td>\n      <td>36524.125</td>\n      <td>138.7</td>\n      <td>7.825</td>\n      <td>8.095</td>\n      <td>7.910</td>\n      <td>7.995</td>\n      <td>7.94</td>\n      <td>527367</td>\n      <td>YES</td>\n      <td>109.60</td>\n      <td>223.840</td>\n      <td>Thriller</td>\n      <td>23</td>\n      <td>494</td>\n      <td>48000</td>\n      <td>1</td>\n    </tr>\n    <tr>\n      <th>1</th>\n      <td>20.5462</td>\n      <td>69.14</td>\n      <td>0.531</td>\n      <td>35668.655</td>\n      <td>152.4</td>\n      <td>7.505</td>\n      <td>7.650</td>\n      <td>7.440</td>\n      <td>7.470</td>\n      <td>7.44</td>\n      <td>494055</td>\n      <td>NO</td>\n      <td>146.64</td>\n      <td>243.456</td>\n      <td>Drama</td>\n      <td>42</td>\n      <td>462</td>\n      <td>43200</td>\n      <td>0</td>\n    </tr>\n    <tr>\n      <th>2</th>\n      <td>20.5458</td>\n      <td>69.14</td>\n      <td>0.531</td>\n      <td>39912.675</td>\n      <td>134.6</td>\n      <td>7.485</td>\n      <td>7.570</td>\n      <td>7.495</td>\n      <td>7.515</td>\n      <td>7.44</td>\n      <td>547051</td>\n      <td>NO</td>\n      <td>147.88</td>\n      <td>2022.400</td>\n      <td>Comedy</td>\n      <td>38</td>\n      <td>458</td>\n      <td>69400</td>\n      <td>1</td>\n    </tr>\n    <tr>\n      <th>3</th>\n      <td>20.6474</td>\n      <td>59.36</td>\n      <td>0.542</td>\n      <td>38873.890</td>\n      <td>119.3</td>\n      <td>6.895</td>\n      <td>7.035</td>\n      <td>6.920</td>\n      <td>7.020</td>\n      <td>8.26</td>\n      <td>516279</td>\n      <td>YES</td>\n      <td>185.36</td>\n      <td>225.344</td>\n      <td>Drama</td>\n      <td>45</td>\n      <td>472</td>\n      <td>66800</td>\n      <td>1</td>\n    </tr>\n    <tr>\n      <th>4</th>\n      <td>21.3810</td>\n      <td>59.36</td>\n      <td>0.542</td>\n      <td>39701.585</td>\n      <td>127.7</td>\n      <td>6.920</td>\n      <td>7.070</td>\n      <td>6.815</td>\n      <td>7.070</td>\n      <td>8.26</td>\n      <td>531448</td>\n      <td>NO</td>\n      <td>176.48</td>\n      <td>225.792</td>\n      <td>Drama</td>\n      <td>55</td>\n      <td>395</td>\n      <td>72400</td>\n      <td>1</td>\n    </tr>\n  </tbody>\n</table>\n</div>",
            "text/plain": "   Marketing expense  Production expense  Multiplex coverage     Budget  \\\n0            20.1264               59.62               0.462  36524.125   \n1            20.5462               69.14               0.531  35668.655   \n2            20.5458               69.14               0.531  39912.675   \n3            20.6474               59.36               0.542  38873.890   \n4            21.3810               59.36               0.542  39701.585   \n\n   Movie_length  Lead_ Actor_Rating  Lead_Actress_rating  Director_rating  \\\n0         138.7               7.825                8.095            7.910   \n1         152.4               7.505                7.650            7.440   \n2         134.6               7.485                7.570            7.495   \n3         119.3               6.895                7.035            6.920   \n4         127.7               6.920                7.070            6.815   \n\n   Producer_rating  Critic_rating  Trailer_views 3D_available  Time_taken  \\\n0            7.995           7.94         527367          YES      109.60   \n1            7.470           7.44         494055           NO      146.64   \n2            7.515           7.44         547051           NO      147.88   \n3            7.020           8.26         516279          YES      185.36   \n4            7.070           8.26         531448           NO      176.48   \n\n   Twitter_hastags     Genre  Avg_age_actors  Num_multiplex  Collection  \\\n0          223.840  Thriller              23            494       48000   \n1          243.456     Drama              42            462       43200   \n2         2022.400    Comedy              38            458       69400   \n3          225.344     Drama              45            472       66800   \n4          225.792     Drama              55            395       72400   \n\n   Start_Tech_Oscar  \n0                 1  \n1                 0  \n2                 1  \n3                 1  \n4                 1  "
          },
          "metadata": {}
        }
      ]
    },
    {
      "metadata": {
        "trusted": true
      },
      "cell_type": "code",
      "source": "df = pd.get_dummies(df,columns = [\"3D_available\",\"Genre\"],drop_first = True)",
      "execution_count": 23,
      "outputs": []
    },
    {
      "metadata": {
        "trusted": true
      },
      "cell_type": "code",
      "source": "df.head()",
      "execution_count": 24,
      "outputs": [
        {
          "output_type": "execute_result",
          "execution_count": 24,
          "data": {
            "text/html": "<div>\n<table border=\"1\" class=\"dataframe\">\n  <thead>\n    <tr style=\"text-align: right;\">\n      <th></th>\n      <th>Marketing expense</th>\n      <th>Production expense</th>\n      <th>Multiplex coverage</th>\n      <th>Budget</th>\n      <th>Movie_length</th>\n      <th>Lead_ Actor_Rating</th>\n      <th>Lead_Actress_rating</th>\n      <th>Director_rating</th>\n      <th>Producer_rating</th>\n      <th>Critic_rating</th>\n      <th>...</th>\n      <th>Time_taken</th>\n      <th>Twitter_hastags</th>\n      <th>Avg_age_actors</th>\n      <th>Num_multiplex</th>\n      <th>Collection</th>\n      <th>Start_Tech_Oscar</th>\n      <th>3D_available_YES</th>\n      <th>Genre_Comedy</th>\n      <th>Genre_Drama</th>\n      <th>Genre_Thriller</th>\n    </tr>\n  </thead>\n  <tbody>\n    <tr>\n      <th>0</th>\n      <td>20.1264</td>\n      <td>59.62</td>\n      <td>0.462</td>\n      <td>36524.125</td>\n      <td>138.7</td>\n      <td>7.825</td>\n      <td>8.095</td>\n      <td>7.910</td>\n      <td>7.995</td>\n      <td>7.94</td>\n      <td>...</td>\n      <td>109.60</td>\n      <td>223.840</td>\n      <td>23</td>\n      <td>494</td>\n      <td>48000</td>\n      <td>1</td>\n      <td>1</td>\n      <td>0</td>\n      <td>0</td>\n      <td>1</td>\n    </tr>\n    <tr>\n      <th>1</th>\n      <td>20.5462</td>\n      <td>69.14</td>\n      <td>0.531</td>\n      <td>35668.655</td>\n      <td>152.4</td>\n      <td>7.505</td>\n      <td>7.650</td>\n      <td>7.440</td>\n      <td>7.470</td>\n      <td>7.44</td>\n      <td>...</td>\n      <td>146.64</td>\n      <td>243.456</td>\n      <td>42</td>\n      <td>462</td>\n      <td>43200</td>\n      <td>0</td>\n      <td>0</td>\n      <td>0</td>\n      <td>1</td>\n      <td>0</td>\n    </tr>\n    <tr>\n      <th>2</th>\n      <td>20.5458</td>\n      <td>69.14</td>\n      <td>0.531</td>\n      <td>39912.675</td>\n      <td>134.6</td>\n      <td>7.485</td>\n      <td>7.570</td>\n      <td>7.495</td>\n      <td>7.515</td>\n      <td>7.44</td>\n      <td>...</td>\n      <td>147.88</td>\n      <td>2022.400</td>\n      <td>38</td>\n      <td>458</td>\n      <td>69400</td>\n      <td>1</td>\n      <td>0</td>\n      <td>1</td>\n      <td>0</td>\n      <td>0</td>\n    </tr>\n    <tr>\n      <th>3</th>\n      <td>20.6474</td>\n      <td>59.36</td>\n      <td>0.542</td>\n      <td>38873.890</td>\n      <td>119.3</td>\n      <td>6.895</td>\n      <td>7.035</td>\n      <td>6.920</td>\n      <td>7.020</td>\n      <td>8.26</td>\n      <td>...</td>\n      <td>185.36</td>\n      <td>225.344</td>\n      <td>45</td>\n      <td>472</td>\n      <td>66800</td>\n      <td>1</td>\n      <td>1</td>\n      <td>0</td>\n      <td>1</td>\n      <td>0</td>\n    </tr>\n    <tr>\n      <th>4</th>\n      <td>21.3810</td>\n      <td>59.36</td>\n      <td>0.542</td>\n      <td>39701.585</td>\n      <td>127.7</td>\n      <td>6.920</td>\n      <td>7.070</td>\n      <td>6.815</td>\n      <td>7.070</td>\n      <td>8.26</td>\n      <td>...</td>\n      <td>176.48</td>\n      <td>225.792</td>\n      <td>55</td>\n      <td>395</td>\n      <td>72400</td>\n      <td>1</td>\n      <td>0</td>\n      <td>0</td>\n      <td>1</td>\n      <td>0</td>\n    </tr>\n  </tbody>\n</table>\n<p>5 rows × 21 columns</p>\n</div>",
            "text/plain": "   Marketing expense  Production expense  Multiplex coverage     Budget  \\\n0            20.1264               59.62               0.462  36524.125   \n1            20.5462               69.14               0.531  35668.655   \n2            20.5458               69.14               0.531  39912.675   \n3            20.6474               59.36               0.542  38873.890   \n4            21.3810               59.36               0.542  39701.585   \n\n   Movie_length  Lead_ Actor_Rating  Lead_Actress_rating  Director_rating  \\\n0         138.7               7.825                8.095            7.910   \n1         152.4               7.505                7.650            7.440   \n2         134.6               7.485                7.570            7.495   \n3         119.3               6.895                7.035            6.920   \n4         127.7               6.920                7.070            6.815   \n\n   Producer_rating  Critic_rating       ...        Time_taken  \\\n0            7.995           7.94       ...            109.60   \n1            7.470           7.44       ...            146.64   \n2            7.515           7.44       ...            147.88   \n3            7.020           8.26       ...            185.36   \n4            7.070           8.26       ...            176.48   \n\n   Twitter_hastags  Avg_age_actors  Num_multiplex  Collection  \\\n0          223.840              23            494       48000   \n1          243.456              42            462       43200   \n2         2022.400              38            458       69400   \n3          225.344              45            472       66800   \n4          225.792              55            395       72400   \n\n   Start_Tech_Oscar  3D_available_YES  Genre_Comedy  Genre_Drama  \\\n0                 1                 1             0            0   \n1                 0                 0             0            1   \n2                 1                 0             1            0   \n3                 1                 1             0            1   \n4                 1                 0             0            1   \n\n   Genre_Thriller  \n0               1  \n1               0  \n2               0  \n3               0  \n4               0  \n\n[5 rows x 21 columns]"
          },
          "metadata": {}
        }
      ]
    },
    {
      "metadata": {},
      "cell_type": "markdown",
      "source": "### X-y split"
    },
    {
      "metadata": {
        "trusted": true
      },
      "cell_type": "code",
      "source": "X = df.loc[:,df.columns!=\"Start_Tech_Oscar\"]\ntype(X)",
      "execution_count": 25,
      "outputs": [
        {
          "output_type": "execute_result",
          "execution_count": 25,
          "data": {
            "text/plain": "pandas.core.frame.DataFrame"
          },
          "metadata": {}
        }
      ]
    },
    {
      "metadata": {
        "trusted": true
      },
      "cell_type": "code",
      "source": "X.head()",
      "execution_count": 26,
      "outputs": [
        {
          "output_type": "execute_result",
          "execution_count": 26,
          "data": {
            "text/html": "<div>\n<table border=\"1\" class=\"dataframe\">\n  <thead>\n    <tr style=\"text-align: right;\">\n      <th></th>\n      <th>Marketing expense</th>\n      <th>Production expense</th>\n      <th>Multiplex coverage</th>\n      <th>Budget</th>\n      <th>Movie_length</th>\n      <th>Lead_ Actor_Rating</th>\n      <th>Lead_Actress_rating</th>\n      <th>Director_rating</th>\n      <th>Producer_rating</th>\n      <th>Critic_rating</th>\n      <th>Trailer_views</th>\n      <th>Time_taken</th>\n      <th>Twitter_hastags</th>\n      <th>Avg_age_actors</th>\n      <th>Num_multiplex</th>\n      <th>Collection</th>\n      <th>3D_available_YES</th>\n      <th>Genre_Comedy</th>\n      <th>Genre_Drama</th>\n      <th>Genre_Thriller</th>\n    </tr>\n  </thead>\n  <tbody>\n    <tr>\n      <th>0</th>\n      <td>20.1264</td>\n      <td>59.62</td>\n      <td>0.462</td>\n      <td>36524.125</td>\n      <td>138.7</td>\n      <td>7.825</td>\n      <td>8.095</td>\n      <td>7.910</td>\n      <td>7.995</td>\n      <td>7.94</td>\n      <td>527367</td>\n      <td>109.60</td>\n      <td>223.840</td>\n      <td>23</td>\n      <td>494</td>\n      <td>48000</td>\n      <td>1</td>\n      <td>0</td>\n      <td>0</td>\n      <td>1</td>\n    </tr>\n    <tr>\n      <th>1</th>\n      <td>20.5462</td>\n      <td>69.14</td>\n      <td>0.531</td>\n      <td>35668.655</td>\n      <td>152.4</td>\n      <td>7.505</td>\n      <td>7.650</td>\n      <td>7.440</td>\n      <td>7.470</td>\n      <td>7.44</td>\n      <td>494055</td>\n      <td>146.64</td>\n      <td>243.456</td>\n      <td>42</td>\n      <td>462</td>\n      <td>43200</td>\n      <td>0</td>\n      <td>0</td>\n      <td>1</td>\n      <td>0</td>\n    </tr>\n    <tr>\n      <th>2</th>\n      <td>20.5458</td>\n      <td>69.14</td>\n      <td>0.531</td>\n      <td>39912.675</td>\n      <td>134.6</td>\n      <td>7.485</td>\n      <td>7.570</td>\n      <td>7.495</td>\n      <td>7.515</td>\n      <td>7.44</td>\n      <td>547051</td>\n      <td>147.88</td>\n      <td>2022.400</td>\n      <td>38</td>\n      <td>458</td>\n      <td>69400</td>\n      <td>0</td>\n      <td>1</td>\n      <td>0</td>\n      <td>0</td>\n    </tr>\n    <tr>\n      <th>3</th>\n      <td>20.6474</td>\n      <td>59.36</td>\n      <td>0.542</td>\n      <td>38873.890</td>\n      <td>119.3</td>\n      <td>6.895</td>\n      <td>7.035</td>\n      <td>6.920</td>\n      <td>7.020</td>\n      <td>8.26</td>\n      <td>516279</td>\n      <td>185.36</td>\n      <td>225.344</td>\n      <td>45</td>\n      <td>472</td>\n      <td>66800</td>\n      <td>1</td>\n      <td>0</td>\n      <td>1</td>\n      <td>0</td>\n    </tr>\n    <tr>\n      <th>4</th>\n      <td>21.3810</td>\n      <td>59.36</td>\n      <td>0.542</td>\n      <td>39701.585</td>\n      <td>127.7</td>\n      <td>6.920</td>\n      <td>7.070</td>\n      <td>6.815</td>\n      <td>7.070</td>\n      <td>8.26</td>\n      <td>531448</td>\n      <td>176.48</td>\n      <td>225.792</td>\n      <td>55</td>\n      <td>395</td>\n      <td>72400</td>\n      <td>0</td>\n      <td>0</td>\n      <td>1</td>\n      <td>0</td>\n    </tr>\n  </tbody>\n</table>\n</div>",
            "text/plain": "   Marketing expense  Production expense  Multiplex coverage     Budget  \\\n0            20.1264               59.62               0.462  36524.125   \n1            20.5462               69.14               0.531  35668.655   \n2            20.5458               69.14               0.531  39912.675   \n3            20.6474               59.36               0.542  38873.890   \n4            21.3810               59.36               0.542  39701.585   \n\n   Movie_length  Lead_ Actor_Rating  Lead_Actress_rating  Director_rating  \\\n0         138.7               7.825                8.095            7.910   \n1         152.4               7.505                7.650            7.440   \n2         134.6               7.485                7.570            7.495   \n3         119.3               6.895                7.035            6.920   \n4         127.7               6.920                7.070            6.815   \n\n   Producer_rating  Critic_rating  Trailer_views  Time_taken  Twitter_hastags  \\\n0            7.995           7.94         527367      109.60          223.840   \n1            7.470           7.44         494055      146.64          243.456   \n2            7.515           7.44         547051      147.88         2022.400   \n3            7.020           8.26         516279      185.36          225.344   \n4            7.070           8.26         531448      176.48          225.792   \n\n   Avg_age_actors  Num_multiplex  Collection  3D_available_YES  Genre_Comedy  \\\n0              23            494       48000                 1             0   \n1              42            462       43200                 0             0   \n2              38            458       69400                 0             1   \n3              45            472       66800                 1             0   \n4              55            395       72400                 0             0   \n\n   Genre_Drama  Genre_Thriller  \n0            0               1  \n1            1               0  \n2            0               0  \n3            1               0  \n4            1               0  "
          },
          "metadata": {}
        }
      ]
    },
    {
      "metadata": {
        "trusted": true
      },
      "cell_type": "code",
      "source": "X.shape",
      "execution_count": 27,
      "outputs": [
        {
          "output_type": "execute_result",
          "execution_count": 27,
          "data": {
            "text/plain": "(506, 20)"
          },
          "metadata": {}
        }
      ]
    },
    {
      "metadata": {
        "trusted": true
      },
      "cell_type": "code",
      "source": "y = df[\"Start_Tech_Oscar\"]\ntype(y)",
      "execution_count": 28,
      "outputs": [
        {
          "output_type": "execute_result",
          "execution_count": 28,
          "data": {
            "text/plain": "pandas.core.series.Series"
          },
          "metadata": {}
        }
      ]
    },
    {
      "metadata": {
        "trusted": true
      },
      "cell_type": "code",
      "source": "y.head()",
      "execution_count": 29,
      "outputs": [
        {
          "output_type": "execute_result",
          "execution_count": 29,
          "data": {
            "text/plain": "0    1\n1    0\n2    1\n3    1\n4    1\nName: Start_Tech_Oscar, dtype: int64"
          },
          "metadata": {}
        }
      ]
    },
    {
      "metadata": {
        "trusted": true
      },
      "cell_type": "code",
      "source": "y.shape",
      "execution_count": 30,
      "outputs": [
        {
          "output_type": "execute_result",
          "execution_count": 30,
          "data": {
            "text/plain": "(506,)"
          },
          "metadata": {}
        }
      ]
    },
    {
      "metadata": {},
      "cell_type": "markdown",
      "source": "### Test-Train Split"
    },
    {
      "metadata": {
        "trusted": true
      },
      "cell_type": "code",
      "source": "from sklearn.model_selection import train_test_split",
      "execution_count": 31,
      "outputs": []
    },
    {
      "metadata": {
        "trusted": true
      },
      "cell_type": "code",
      "source": "X_train, X_test, y_train, y_test = train_test_split(X, y,test_size=0.2,random_state=0)",
      "execution_count": 32,
      "outputs": []
    },
    {
      "metadata": {
        "trusted": true
      },
      "cell_type": "code",
      "source": "X_train.head()",
      "execution_count": 33,
      "outputs": [
        {
          "output_type": "execute_result",
          "execution_count": 33,
          "data": {
            "text/html": "<div>\n<table border=\"1\" class=\"dataframe\">\n  <thead>\n    <tr style=\"text-align: right;\">\n      <th></th>\n      <th>Marketing expense</th>\n      <th>Production expense</th>\n      <th>Multiplex coverage</th>\n      <th>Budget</th>\n      <th>Movie_length</th>\n      <th>Lead_ Actor_Rating</th>\n      <th>Lead_Actress_rating</th>\n      <th>Director_rating</th>\n      <th>Producer_rating</th>\n      <th>Critic_rating</th>\n      <th>Trailer_views</th>\n      <th>Time_taken</th>\n      <th>Twitter_hastags</th>\n      <th>Avg_age_actors</th>\n      <th>Num_multiplex</th>\n      <th>Collection</th>\n      <th>3D_available_YES</th>\n      <th>Genre_Comedy</th>\n      <th>Genre_Drama</th>\n      <th>Genre_Thriller</th>\n    </tr>\n  </thead>\n  <tbody>\n    <tr>\n      <th>220</th>\n      <td>27.1618</td>\n      <td>67.40</td>\n      <td>0.493</td>\n      <td>38612.805</td>\n      <td>162.0</td>\n      <td>8.485</td>\n      <td>8.640</td>\n      <td>8.485</td>\n      <td>8.670</td>\n      <td>8.52</td>\n      <td>480270</td>\n      <td>174.68</td>\n      <td>224.272</td>\n      <td>23</td>\n      <td>536</td>\n      <td>53400</td>\n      <td>0</td>\n      <td>0</td>\n      <td>0</td>\n      <td>1</td>\n    </tr>\n    <tr>\n      <th>71</th>\n      <td>23.1752</td>\n      <td>76.62</td>\n      <td>0.587</td>\n      <td>33113.355</td>\n      <td>91.0</td>\n      <td>7.280</td>\n      <td>7.400</td>\n      <td>7.290</td>\n      <td>7.455</td>\n      <td>8.16</td>\n      <td>491978</td>\n      <td>200.68</td>\n      <td>263.472</td>\n      <td>46</td>\n      <td>400</td>\n      <td>43400</td>\n      <td>0</td>\n      <td>0</td>\n      <td>0</td>\n      <td>0</td>\n    </tr>\n    <tr>\n      <th>240</th>\n      <td>22.2658</td>\n      <td>64.86</td>\n      <td>0.572</td>\n      <td>38312.835</td>\n      <td>127.8</td>\n      <td>6.755</td>\n      <td>6.935</td>\n      <td>6.800</td>\n      <td>6.840</td>\n      <td>8.68</td>\n      <td>470107</td>\n      <td>204.80</td>\n      <td>224.320</td>\n      <td>24</td>\n      <td>387</td>\n      <td>54000</td>\n      <td>1</td>\n      <td>1</td>\n      <td>0</td>\n      <td>0</td>\n    </tr>\n    <tr>\n      <th>6</th>\n      <td>21.7658</td>\n      <td>70.74</td>\n      <td>0.476</td>\n      <td>33396.660</td>\n      <td>140.1</td>\n      <td>7.065</td>\n      <td>7.265</td>\n      <td>7.150</td>\n      <td>7.400</td>\n      <td>8.96</td>\n      <td>459241</td>\n      <td>139.16</td>\n      <td>243.664</td>\n      <td>41</td>\n      <td>522</td>\n      <td>45800</td>\n      <td>1</td>\n      <td>0</td>\n      <td>0</td>\n      <td>1</td>\n    </tr>\n    <tr>\n      <th>417</th>\n      <td>538.8120</td>\n      <td>91.20</td>\n      <td>0.321</td>\n      <td>29463.720</td>\n      <td>162.6</td>\n      <td>9.135</td>\n      <td>9.305</td>\n      <td>9.095</td>\n      <td>9.165</td>\n      <td>6.96</td>\n      <td>302776</td>\n      <td>172.16</td>\n      <td>301.664</td>\n      <td>60</td>\n      <td>589</td>\n      <td>20800</td>\n      <td>1</td>\n      <td>0</td>\n      <td>0</td>\n      <td>0</td>\n    </tr>\n  </tbody>\n</table>\n</div>",
            "text/plain": "     Marketing expense  Production expense  Multiplex coverage     Budget  \\\n220            27.1618               67.40               0.493  38612.805   \n71             23.1752               76.62               0.587  33113.355   \n240            22.2658               64.86               0.572  38312.835   \n6              21.7658               70.74               0.476  33396.660   \n417           538.8120               91.20               0.321  29463.720   \n\n     Movie_length  Lead_ Actor_Rating  Lead_Actress_rating  Director_rating  \\\n220         162.0               8.485                8.640            8.485   \n71           91.0               7.280                7.400            7.290   \n240         127.8               6.755                6.935            6.800   \n6           140.1               7.065                7.265            7.150   \n417         162.6               9.135                9.305            9.095   \n\n     Producer_rating  Critic_rating  Trailer_views  Time_taken  \\\n220            8.670           8.52         480270      174.68   \n71             7.455           8.16         491978      200.68   \n240            6.840           8.68         470107      204.80   \n6              7.400           8.96         459241      139.16   \n417            9.165           6.96         302776      172.16   \n\n     Twitter_hastags  Avg_age_actors  Num_multiplex  Collection  \\\n220          224.272              23            536       53400   \n71           263.472              46            400       43400   \n240          224.320              24            387       54000   \n6            243.664              41            522       45800   \n417          301.664              60            589       20800   \n\n     3D_available_YES  Genre_Comedy  Genre_Drama  Genre_Thriller  \n220                 0             0            0               1  \n71                  0             0            0               0  \n240                 1             1            0               0  \n6                   1             0            0               1  \n417                 1             0            0               0  "
          },
          "metadata": {}
        }
      ]
    },
    {
      "metadata": {
        "trusted": true
      },
      "cell_type": "code",
      "source": "X_train.shape",
      "execution_count": 34,
      "outputs": [
        {
          "output_type": "execute_result",
          "execution_count": 34,
          "data": {
            "text/plain": "(404, 20)"
          },
          "metadata": {}
        }
      ]
    },
    {
      "metadata": {
        "trusted": true
      },
      "cell_type": "code",
      "source": "X_test.shape",
      "execution_count": 35,
      "outputs": [
        {
          "output_type": "execute_result",
          "execution_count": 35,
          "data": {
            "text/plain": "(102, 20)"
          },
          "metadata": {}
        }
      ]
    },
    {
      "metadata": {},
      "cell_type": "markdown",
      "source": "### Standardizing Data"
    },
    {
      "metadata": {
        "trusted": true
      },
      "cell_type": "code",
      "source": "from sklearn.preprocessing import StandardScaler",
      "execution_count": 36,
      "outputs": []
    },
    {
      "metadata": {
        "trusted": true
      },
      "cell_type": "code",
      "source": "sc = StandardScaler().fit(X_train)\nsc",
      "execution_count": 49,
      "outputs": [
        {
          "output_type": "execute_result",
          "execution_count": 49,
          "data": {
            "text/plain": "StandardScaler(copy=True, with_mean=True, with_std=True)"
          },
          "metadata": {}
        }
      ]
    },
    {
      "metadata": {
        "trusted": true
      },
      "cell_type": "code",
      "source": "X_train_std = sc.transform(X_train)",
      "execution_count": 38,
      "outputs": []
    },
    {
      "metadata": {
        "trusted": true
      },
      "cell_type": "code",
      "source": "X_test_std = sc.transform(X_test)",
      "execution_count": 39,
      "outputs": []
    },
    {
      "metadata": {
        "trusted": true
      },
      "cell_type": "code",
      "source": "X_test_std",
      "execution_count": 40,
      "outputs": [
        {
          "output_type": "execute_result",
          "execution_count": 40,
          "data": {
            "text/plain": "array([[-0.40835869, -1.12872913,  0.83336883, ...,  1.50268577,\n        -0.48525664, -0.75225758],\n       [ 0.71925111,  0.9988844 , -0.65283979, ...,  1.50268577,\n        -0.48525664, -0.75225758],\n       [-0.40257488,  0.39610829,  0.05115377, ...,  1.50268577,\n        -0.48525664, -0.75225758],\n       ...,\n       [-0.3982601 , -0.85812418,  0.89420778, ..., -0.66547513,\n        -0.48525664,  1.3293319 ],\n       [-0.39934279, -0.07637654,  0.58132175, ...,  1.50268577,\n        -0.48525664, -0.75225758],\n       [-0.40088071, -0.36702631,  0.31189212, ..., -0.66547513,\n        -0.48525664, -0.75225758]])"
          },
          "metadata": {}
        }
      ]
    },
    {
      "metadata": {
        "trusted": false
      },
      "cell_type": "code",
      "source": "",
      "execution_count": null,
      "outputs": []
    },
    {
      "metadata": {},
      "cell_type": "markdown",
      "source": "### Training SVM\n\nhttps://scikit-learn.org/stable/modules/generated/sklearn.svm.SVC.html"
    },
    {
      "metadata": {
        "trusted": true
      },
      "cell_type": "code",
      "source": "from sklearn import svm",
      "execution_count": 41,
      "outputs": []
    },
    {
      "metadata": {
        "trusted": true
      },
      "cell_type": "code",
      "source": "clf_svm_l = svm.SVC(kernel='linear', C=100)\nclf_svm_l.fit(X_train_std, y_train)",
      "execution_count": 42,
      "outputs": [
        {
          "output_type": "execute_result",
          "execution_count": 42,
          "data": {
            "text/plain": "SVC(C=100, cache_size=200, class_weight=None, coef0=0.0,\n  decision_function_shape='ovr', degree=3, gamma='auto', kernel='linear',\n  max_iter=-1, probability=False, random_state=None, shrinking=True,\n  tol=0.001, verbose=False)"
          },
          "metadata": {}
        }
      ]
    },
    {
      "metadata": {
        "trusted": true
      },
      "cell_type": "code",
      "source": "y_train_list=y_train.tolist()#mine \ny_train_list\n",
      "execution_count": 48,
      "outputs": [
        {
          "output_type": "execute_result",
          "execution_count": 48,
          "data": {
            "text/plain": "[1,\n 1,\n 1,\n 0,\n 1,\n 1,\n 0,\n 1,\n 1,\n 1,\n 0,\n 1,\n 1,\n 1,\n 1,\n 0,\n 1,\n 1,\n 0,\n 1,\n 1,\n 1,\n 0,\n 1,\n 0,\n 0,\n 1,\n 1,\n 0,\n 0,\n 0,\n 0,\n 0,\n 1,\n 1,\n 1,\n 0,\n 1,\n 1,\n 0,\n 1,\n 0,\n 1,\n 0,\n 1,\n 1,\n 0,\n 1,\n 1,\n 0,\n 1,\n 0,\n 0,\n 0,\n 0,\n 0,\n 0,\n 1,\n 0,\n 1,\n 1,\n 1,\n 1,\n 1,\n 0,\n 1,\n 0,\n 1,\n 0,\n 1,\n 0,\n 1,\n 1,\n 0,\n 0,\n 1,\n 1,\n 0,\n 0,\n 0,\n 1,\n 0,\n 1,\n 1,\n 1,\n 1,\n 1,\n 1,\n 0,\n 0,\n 0,\n 0,\n 0,\n 0,\n 0,\n 1,\n 0,\n 1,\n 0,\n 1,\n 1,\n 0,\n 0,\n 0,\n 1,\n 0,\n 1,\n 0,\n 0,\n 1,\n 1,\n 1,\n 0,\n 1,\n 1,\n 0,\n 1,\n 1,\n 1,\n 1,\n 0,\n 0,\n 1,\n 1,\n 1,\n 0,\n 1,\n 0,\n 1,\n 1,\n 0,\n 1,\n 0,\n 0,\n 1,\n 0,\n 1,\n 1,\n 0,\n 1,\n 1,\n 0,\n 1,\n 1,\n 1,\n 1,\n 1,\n 1,\n 1,\n 0,\n 0,\n 0,\n 0,\n 0,\n 1,\n 1,\n 0,\n 0,\n 0,\n 0,\n 1,\n 1,\n 0,\n 1,\n 1,\n 1,\n 0,\n 0,\n 0,\n 0,\n 1,\n 1,\n 1,\n 1,\n 1,\n 0,\n 1,\n 0,\n 1,\n 0,\n 1,\n 1,\n 1,\n 1,\n 1,\n 1,\n 0,\n 0,\n 1,\n 0,\n 0,\n 1,\n 1,\n 0,\n 1,\n 0,\n 0,\n 0,\n 0,\n 1,\n 0,\n 1,\n 0,\n 1,\n 0,\n 1,\n 1,\n 1,\n 1,\n 0,\n 0,\n 0,\n 1,\n 0,\n 1,\n 1,\n 0,\n 1,\n 0,\n 1,\n 0,\n 0,\n 1,\n 1,\n 0,\n 0,\n 1,\n 0,\n 0,\n 0,\n 1,\n 0,\n 0,\n 0,\n 0,\n 1,\n 1,\n 1,\n 1,\n 1,\n 1,\n 0,\n 0,\n 0,\n 1,\n 0,\n 1,\n 1,\n 0,\n 0,\n 0,\n 0,\n 0,\n 0,\n 0,\n 1,\n 1,\n 1,\n 1,\n 0,\n 1,\n 0,\n 1,\n 0,\n 0,\n 0,\n 1,\n 1,\n 1,\n 0,\n 1,\n 1,\n 1,\n 0,\n 0,\n 1,\n 1,\n 1,\n 0,\n 1,\n 1,\n 1,\n 0,\n 1,\n 1,\n 1,\n 0,\n 1,\n 0,\n 1,\n 0,\n 1,\n 0,\n 1,\n 1,\n 1,\n 0,\n 1,\n 0,\n 1,\n 1,\n 1,\n 0,\n 1,\n 0,\n 1,\n 0,\n 0,\n 1,\n 1,\n 1,\n 1,\n 0,\n 1,\n 0,\n 0,\n 0,\n 1,\n 0,\n 1,\n 1,\n 0,\n 1,\n 1,\n 1,\n 1,\n 0,\n 1,\n 1,\n 0,\n 0,\n 0,\n 1,\n 0,\n 1,\n 0,\n 0,\n 1,\n 0,\n 1,\n 0,\n 1,\n 0,\n 0,\n 1,\n 1,\n 1,\n 1,\n 1,\n 1,\n 0,\n 1,\n 1,\n 0,\n 0,\n 1,\n 1,\n 1,\n 1,\n 1,\n 1,\n 0,\n 0,\n 0,\n 0,\n 1,\n 1,\n 0,\n 0,\n 0,\n 0,\n 0,\n 0,\n 0,\n 1,\n 1,\n 0,\n 1,\n 0,\n 1,\n 0,\n 0,\n 0,\n 0,\n 0,\n 1,\n 0,\n 0,\n 1,\n 0,\n 1,\n 0,\n 1,\n 1,\n 1,\n 1,\n 1,\n 1,\n 0,\n 1,\n 0,\n 0,\n 1,\n 0]"
          },
          "metadata": {}
        }
      ]
    },
    {
      "metadata": {},
      "cell_type": "markdown",
      "source": "### Predict values using trained model"
    },
    {
      "metadata": {
        "trusted": true
      },
      "cell_type": "code",
      "source": "y_train_pred = clf_svm_l.predict(X_train_std)\ny_test_pred = clf_svm_l.predict(X_test_std)",
      "execution_count": 50,
      "outputs": []
    },
    {
      "metadata": {
        "trusted": true
      },
      "cell_type": "code",
      "source": "y_test_pred",
      "execution_count": 51,
      "outputs": [
        {
          "output_type": "execute_result",
          "execution_count": 51,
          "data": {
            "text/plain": "array([1, 1, 1, 0, 1, 0, 1, 0, 0, 0, 0, 0, 0, 1, 1, 1, 0, 1, 1, 0, 0, 0,\n       1, 0, 0, 1, 0, 1, 1, 0, 1, 1, 0, 1, 0, 0, 0, 1, 0, 0, 0, 0, 0, 0,\n       0, 1, 1, 0, 1, 1, 0, 1, 0, 1, 1, 1, 1, 1, 0, 1, 1, 0, 0, 1, 1, 0,\n       0, 0, 1, 0, 0, 0, 0, 0, 1, 1, 1, 1, 1, 1, 1, 0, 1, 1, 1, 0, 0, 0,\n       1, 1, 1, 0, 1, 0, 0, 1, 1, 1, 0, 1, 1, 0])"
          },
          "metadata": {}
        }
      ]
    },
    {
      "metadata": {},
      "cell_type": "markdown",
      "source": "### Model Performance"
    },
    {
      "metadata": {
        "trusted": true
      },
      "cell_type": "code",
      "source": "from sklearn.metrics import accuracy_score, confusion_matrix",
      "execution_count": 52,
      "outputs": []
    },
    {
      "metadata": {
        "trusted": true
      },
      "cell_type": "code",
      "source": "",
      "execution_count": null,
      "outputs": []
    },
    {
      "metadata": {
        "trusted": true
      },
      "cell_type": "code",
      "source": "confusion_matrix(y_test, y_test_pred)#25 is true negative 19 false positive second row false negative and 33 true positive",
      "execution_count": 53,
      "outputs": [
        {
          "output_type": "execute_result",
          "execution_count": 53,
          "data": {
            "text/plain": "array([[25, 19],\n       [25, 33]])"
          },
          "metadata": {}
        }
      ]
    },
    {
      "metadata": {
        "trusted": true
      },
      "cell_type": "code",
      "source": "accuracy_score(y_test, y_test_pred)",
      "execution_count": 55,
      "outputs": [
        {
          "output_type": "execute_result",
          "execution_count": 55,
          "data": {
            "text/plain": "0.5686274509803921"
          },
          "metadata": {}
        }
      ]
    },
    {
      "metadata": {
        "trusted": true
      },
      "cell_type": "code",
      "source": "clf_svm_l.n_support_",
      "execution_count": 56,
      "outputs": [
        {
          "output_type": "execute_result",
          "execution_count": 56,
          "data": {
            "text/plain": "array([144, 146], dtype=int32)"
          },
          "metadata": {}
        }
      ]
    },
    {
      "metadata": {
        "trusted": true
      },
      "cell_type": "code",
      "source": "clf_svm_l.support_vectors_",
      "execution_count": 57,
      "outputs": [
        {
          "output_type": "execute_result",
          "execution_count": 57,
          "data": {
            "text/plain": "array([[-0.40576883, -0.46581859,  0.27712701, ..., -0.66547513,\n        -0.48525664,  1.3293319 ],\n       [-0.41106174,  0.11548094, -0.14874564, ..., -0.66547513,\n        -0.48525664, -0.75225758],\n       [-0.39884697, -0.46581859,  0.27712701, ..., -0.66547513,\n         2.06076521, -0.75225758],\n       ...,\n       [-0.39571084, -0.46581859,  0.27712701, ..., -0.66547513,\n        -0.48525664,  1.3293319 ],\n       [-0.38169978, -0.53597543,  0.54655664, ...,  1.50268577,\n        -0.48525664, -0.75225758],\n       [-0.38842357, -0.60326872,  0.93766417, ..., -0.66547513,\n        -0.48525664,  1.3293319 ]])"
          },
          "metadata": {}
        }
      ]
    },
    {
      "metadata": {
        "trusted": true
      },
      "cell_type": "code",
      "source": "",
      "execution_count": null,
      "outputs": []
    },
    {
      "metadata": {
        "trusted": true
      },
      "cell_type": "code",
      "source": "",
      "execution_count": null,
      "outputs": []
    },
    {
      "metadata": {},
      "cell_type": "markdown",
      "source": "### Grid Search"
    },
    {
      "metadata": {
        "trusted": true
      },
      "cell_type": "code",
      "source": "from sklearn.model_selection import GridSearchCV ",
      "execution_count": 59,
      "outputs": []
    },
    {
      "metadata": {
        "trusted": true
      },
      "cell_type": "code",
      "source": "params = {'C':(0.001,0.005,0.01,0.05, 0.1, 0.5, 1, 5, 10, 50,100,500,1000)} ",
      "execution_count": 60,
      "outputs": []
    },
    {
      "metadata": {
        "trusted": true
      },
      "cell_type": "code",
      "source": "clf_svm_l = svm.SVC(kernel='linear')",
      "execution_count": 61,
      "outputs": []
    },
    {
      "metadata": {
        "trusted": true
      },
      "cell_type": "code",
      "source": "svm_grid_lin = GridSearchCV(clf_svm_l, params, n_jobs=-1,\n                            cv=10, verbose=1, scoring='accuracy') #n_jobs",
      "execution_count": 63,
      "outputs": []
    },
    {
      "metadata": {
        "trusted": true,
        "scrolled": true
      },
      "cell_type": "code",
      "source": "svm_grid_lin.fit(X_train_std, y_train)",
      "execution_count": 64,
      "outputs": [
        {
          "output_type": "stream",
          "text": "Fitting 10 folds for each of 13 candidates, totalling 130 fits\n",
          "name": "stdout"
        },
        {
          "output_type": "stream",
          "text": "[Parallel(n_jobs=-1)]: Done 130 out of 130 | elapsed:  2.0min finished\n",
          "name": "stderr"
        },
        {
          "output_type": "execute_result",
          "execution_count": 64,
          "data": {
            "text/plain": "GridSearchCV(cv=10, error_score='raise',\n       estimator=SVC(C=1.0, cache_size=200, class_weight=None, coef0=0.0,\n  decision_function_shape='ovr', degree=3, gamma='auto', kernel='linear',\n  max_iter=-1, probability=False, random_state=None, shrinking=True,\n  tol=0.001, verbose=False),\n       fit_params=None, iid=True, n_jobs=-1,\n       param_grid={'C': (0.001, 0.005, 0.01, 0.05, 0.1, 0.5, 1, 5, 10, 50, 100, 500, 1000)},\n       pre_dispatch='2*n_jobs', refit=True, return_train_score='warn',\n       scoring='accuracy', verbose=1)"
          },
          "metadata": {}
        }
      ]
    },
    {
      "metadata": {
        "trusted": true
      },
      "cell_type": "code",
      "source": "svm_grid_lin.best_params_ ",
      "execution_count": 65,
      "outputs": [
        {
          "output_type": "execute_result",
          "execution_count": 65,
          "data": {
            "text/plain": "{'C': 0.5}"
          },
          "metadata": {}
        }
      ]
    },
    {
      "metadata": {
        "trusted": true
      },
      "cell_type": "code",
      "source": "linsvm_clf = svm_grid_lin.best_estimator_",
      "execution_count": 66,
      "outputs": []
    },
    {
      "metadata": {
        "trusted": true
      },
      "cell_type": "code",
      "source": "accuracy_score(y_test, linsvm_clf.predict(X_test_std))",
      "execution_count": 67,
      "outputs": [
        {
          "output_type": "execute_result",
          "execution_count": 67,
          "data": {
            "text/plain": "0.5980392156862745"
          },
          "metadata": {}
        }
      ]
    },
    {
      "metadata": {
        "trusted": false
      },
      "cell_type": "code",
      "source": "",
      "execution_count": null,
      "outputs": []
    },
    {
      "metadata": {
        "trusted": false
      },
      "cell_type": "code",
      "source": "",
      "execution_count": null,
      "outputs": []
    },
    {
      "metadata": {
        "trusted": false
      },
      "cell_type": "code",
      "source": "",
      "execution_count": null,
      "outputs": []
    },
    {
      "metadata": {
        "trusted": false
      },
      "cell_type": "code",
      "source": "",
      "execution_count": null,
      "outputs": []
    },
    {
      "metadata": {
        "trusted": false
      },
      "cell_type": "code",
      "source": "",
      "execution_count": null,
      "outputs": []
    },
    {
      "metadata": {
        "trusted": false
      },
      "cell_type": "code",
      "source": "",
      "execution_count": null,
      "outputs": []
    },
    {
      "metadata": {
        "trusted": false
      },
      "cell_type": "code",
      "source": "",
      "execution_count": null,
      "outputs": []
    },
    {
      "metadata": {
        "trusted": false
      },
      "cell_type": "code",
      "source": "",
      "execution_count": null,
      "outputs": []
    },
    {
      "metadata": {},
      "cell_type": "markdown",
      "source": "### Polynomial"
    },
    {
      "metadata": {
        "trusted": true
      },
      "cell_type": "code",
      "source": "clf_svm_p3 = svm.SVC(kernel='poly', degree=2, C=0.1)\nclf_svm_p3.fit(X_train_std, y_train)",
      "execution_count": 68,
      "outputs": [
        {
          "output_type": "execute_result",
          "execution_count": 68,
          "data": {
            "text/plain": "SVC(C=0.1, cache_size=200, class_weight=None, coef0=0.0,\n  decision_function_shape='ovr', degree=2, gamma='auto', kernel='poly',\n  max_iter=-1, probability=False, random_state=None, shrinking=True,\n  tol=0.001, verbose=False)"
          },
          "metadata": {}
        }
      ]
    },
    {
      "metadata": {
        "trusted": true
      },
      "cell_type": "code",
      "source": "y_train_pred = clf_svm_p3.predict(X_train_std)\ny_test_pred = clf_svm_p3.predict(X_test_std)",
      "execution_count": 69,
      "outputs": []
    },
    {
      "metadata": {
        "trusted": true
      },
      "cell_type": "code",
      "source": "accuracy_score(y_test, y_test_pred)",
      "execution_count": 70,
      "outputs": [
        {
          "output_type": "execute_result",
          "execution_count": 70,
          "data": {
            "text/plain": "0.5588235294117647"
          },
          "metadata": {}
        }
      ]
    },
    {
      "metadata": {
        "trusted": true
      },
      "cell_type": "code",
      "source": "clf_svm_p3.n_support_",
      "execution_count": 71,
      "outputs": [
        {
          "output_type": "execute_result",
          "execution_count": 71,
          "data": {
            "text/plain": "array([185, 194], dtype=int32)"
          },
          "metadata": {}
        }
      ]
    },
    {
      "metadata": {
        "trusted": true
      },
      "cell_type": "code",
      "source": "params={'degree':(3,4,5,6,7,8,9,10),'C':(0.001,0.005,0.01,0.05, 0.1, 0.5, 1, 5, 10, 50,100,500,1000)}",
      "execution_count": 76,
      "outputs": []
    },
    {
      "metadata": {
        "trusted": true
      },
      "cell_type": "code",
      "source": "clf_svm_p3=svm.SVC(kernel='poly')",
      "execution_count": 85,
      "outputs": []
    },
    {
      "metadata": {
        "trusted": true
      },
      "cell_type": "code",
      "source": "svm_grid_poly=GridSearchCV(clf_svm_p3, params, n_jobs=-1,\n                            cv=3, verbose=1, scoring='accuracy')",
      "execution_count": 90,
      "outputs": []
    },
    {
      "metadata": {
        "trusted": true
      },
      "cell_type": "code",
      "source": "svm_grid_poly.fit(X_train_std, y_train)",
      "execution_count": 91,
      "outputs": [
        {
          "output_type": "stream",
          "text": "Fitting 3 folds for each of 104 candidates, totalling 312 fits\n",
          "name": "stdout"
        },
        {
          "output_type": "stream",
          "text": "[Parallel(n_jobs=-1)]: Done 312 out of 312 | elapsed:    3.4s finished\n",
          "name": "stderr"
        },
        {
          "output_type": "execute_result",
          "execution_count": 91,
          "data": {
            "text/plain": "GridSearchCV(cv=3, error_score='raise',\n       estimator=SVC(C=1.0, cache_size=200, class_weight=None, coef0=0.0,\n  decision_function_shape='ovr', degree=3, gamma='auto', kernel='poly',\n  max_iter=-1, probability=False, random_state=None, shrinking=True,\n  tol=0.001, verbose=False),\n       fit_params=None, iid=True, n_jobs=-1,\n       param_grid={'degree': (3, 4, 5, 6, 7, 8, 9, 10), 'C': (0.001, 0.005, 0.01, 0.05, 0.1, 0.5, 1, 5, 10, 50, 100, 500, 1000)},\n       pre_dispatch='2*n_jobs', refit=True, return_train_score='warn',\n       scoring='accuracy', verbose=1)"
          },
          "metadata": {}
        }
      ]
    },
    {
      "metadata": {
        "trusted": true
      },
      "cell_type": "code",
      "source": "svm_grid_poly.best_params_",
      "execution_count": 93,
      "outputs": [
        {
          "output_type": "execute_result",
          "execution_count": 93,
          "data": {
            "text/plain": "{'C': 0.5, 'degree': 3}"
          },
          "metadata": {}
        }
      ]
    },
    {
      "metadata": {
        "trusted": true
      },
      "cell_type": "code",
      "source": "final=svm_grid_poly.best_estimator_",
      "execution_count": 95,
      "outputs": []
    },
    {
      "metadata": {
        "trusted": true
      },
      "cell_type": "code",
      "source": "accuracy_score(y_test, final.predict(X_test_std))",
      "execution_count": 96,
      "outputs": [
        {
          "output_type": "execute_result",
          "execution_count": 96,
          "data": {
            "text/plain": "0.5686274509803921"
          },
          "metadata": {}
        }
      ]
    },
    {
      "metadata": {},
      "cell_type": "markdown",
      "source": "### Radial"
    },
    {
      "metadata": {
        "trusted": true
      },
      "cell_type": "code",
      "source": "clf_svm_r = svm.SVC(kernel='rbf', gamma=0.5, C=10)\nclf_svm_r.fit(X_train_std, y_train)",
      "execution_count": 97,
      "outputs": [
        {
          "output_type": "execute_result",
          "execution_count": 97,
          "data": {
            "text/plain": "SVC(C=10, cache_size=200, class_weight=None, coef0=0.0,\n  decision_function_shape='ovr', degree=3, gamma=0.5, kernel='rbf',\n  max_iter=-1, probability=False, random_state=None, shrinking=True,\n  tol=0.001, verbose=False)"
          },
          "metadata": {}
        }
      ]
    },
    {
      "metadata": {
        "trusted": true
      },
      "cell_type": "code",
      "source": "y_train_pred = clf_svm_r.predict(X_train_std)\ny_test_pred = clf_svm_r.predict(X_test_std)",
      "execution_count": 98,
      "outputs": []
    },
    {
      "metadata": {
        "trusted": true
      },
      "cell_type": "code",
      "source": "accuracy_score(y_test, y_test_pred)",
      "execution_count": 99,
      "outputs": [
        {
          "output_type": "execute_result",
          "execution_count": 99,
          "data": {
            "text/plain": "0.6176470588235294"
          },
          "metadata": {}
        }
      ]
    },
    {
      "metadata": {
        "trusted": true
      },
      "cell_type": "code",
      "source": "clf_svm_r.n_support_",
      "execution_count": 100,
      "outputs": [
        {
          "output_type": "execute_result",
          "execution_count": 100,
          "data": {
            "text/plain": "array([186, 218], dtype=int32)"
          },
          "metadata": {}
        }
      ]
    },
    {
      "metadata": {},
      "cell_type": "markdown",
      "source": "### Radial Grid"
    },
    {
      "metadata": {
        "trusted": true
      },
      "cell_type": "code",
      "source": "params = {'C':(0.01,0.05, 0.1, 0.5, 1, 5, 10, 50), \n          'gamma':(0.001, 0.01, 0.1, 0.5, 1)} ",
      "execution_count": 101,
      "outputs": []
    },
    {
      "metadata": {
        "trusted": true
      },
      "cell_type": "code",
      "source": "clf_svm_r = svm.SVC(kernel='rbf')",
      "execution_count": 102,
      "outputs": []
    },
    {
      "metadata": {
        "trusted": true
      },
      "cell_type": "code",
      "source": "svm_grid_rad = GridSearchCV(clf_svm_r, params, n_jobs=-1,\n                            cv=3, verbose=1, scoring='accuracy') ",
      "execution_count": 103,
      "outputs": []
    },
    {
      "metadata": {
        "trusted": true
      },
      "cell_type": "code",
      "source": "svm_grid_rad.fit(X_train_std, y_train)",
      "execution_count": 104,
      "outputs": [
        {
          "output_type": "stream",
          "text": "Fitting 3 folds for each of 40 candidates, totalling 120 fits\n",
          "name": "stdout"
        },
        {
          "output_type": "stream",
          "text": "[Parallel(n_jobs=-1)]: Done 120 out of 120 | elapsed:    2.3s finished\n",
          "name": "stderr"
        },
        {
          "output_type": "execute_result",
          "execution_count": 104,
          "data": {
            "text/plain": "GridSearchCV(cv=3, error_score='raise',\n       estimator=SVC(C=1.0, cache_size=200, class_weight=None, coef0=0.0,\n  decision_function_shape='ovr', degree=3, gamma='auto', kernel='rbf',\n  max_iter=-1, probability=False, random_state=None, shrinking=True,\n  tol=0.001, verbose=False),\n       fit_params=None, iid=True, n_jobs=-1,\n       param_grid={'gamma': (0.001, 0.01, 0.1, 0.5, 1), 'C': (0.01, 0.05, 0.1, 0.5, 1, 5, 10, 50)},\n       pre_dispatch='2*n_jobs', refit=True, return_train_score='warn',\n       scoring='accuracy', verbose=1)"
          },
          "metadata": {}
        }
      ]
    },
    {
      "metadata": {
        "trusted": true
      },
      "cell_type": "code",
      "source": "svm_grid_rad.best_params_ ",
      "execution_count": 105,
      "outputs": [
        {
          "output_type": "execute_result",
          "execution_count": 105,
          "data": {
            "text/plain": "{'C': 50, 'gamma': 0.001}"
          },
          "metadata": {}
        }
      ]
    },
    {
      "metadata": {
        "trusted": true
      },
      "cell_type": "code",
      "source": "radsvm_clf = svm_grid_rad.best_estimator_",
      "execution_count": 106,
      "outputs": []
    },
    {
      "metadata": {
        "trusted": true
      },
      "cell_type": "code",
      "source": "accuracy_score(y_test, radsvm_clf.predict(X_test_std))",
      "execution_count": 107,
      "outputs": [
        {
          "output_type": "execute_result",
          "execution_count": 107,
          "data": {
            "text/plain": "0.6176470588235294"
          },
          "metadata": {}
        }
      ]
    },
    {
      "metadata": {},
      "cell_type": "markdown",
      "source": "### here the data is quite small therefore GridSearchCV doesnt holds good"
    },
    {
      "metadata": {
        "trusted": false
      },
      "cell_type": "code",
      "source": "",
      "execution_count": null,
      "outputs": []
    },
    {
      "metadata": {
        "trusted": false
      },
      "cell_type": "code",
      "source": "",
      "execution_count": null,
      "outputs": []
    },
    {
      "metadata": {
        "trusted": false
      },
      "cell_type": "code",
      "source": "",
      "execution_count": null,
      "outputs": []
    },
    {
      "metadata": {
        "trusted": false
      },
      "cell_type": "code",
      "source": "",
      "execution_count": null,
      "outputs": []
    },
    {
      "metadata": {
        "trusted": false
      },
      "cell_type": "code",
      "source": "",
      "execution_count": null,
      "outputs": []
    }
  ],
  "metadata": {
    "kernelspec": {
      "name": "python3",
      "display_name": "Python 3",
      "language": "python"
    },
    "language_info": {
      "mimetype": "text/x-python",
      "nbconvert_exporter": "python",
      "name": "python",
      "pygments_lexer": "ipython3",
      "version": "3.5.4",
      "file_extension": ".py",
      "codemirror_mode": {
        "version": 3,
        "name": "ipython"
      }
    }
  },
  "nbformat": 4,
  "nbformat_minor": 2
}